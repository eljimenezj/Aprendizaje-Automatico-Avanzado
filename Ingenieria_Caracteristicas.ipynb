{
  "nbformat": 4,
  "nbformat_minor": 0,
  "metadata": {
    "colab": {
      "name": "Ingenieria_Caracteristicas.ipynb",
      "provenance": [],
      "collapsed_sections": [],
      "include_colab_link": true
    },
    "kernelspec": {
      "name": "python3",
      "display_name": "Python 3"
    }
  },
  "cells": [
    {
      "cell_type": "markdown",
      "metadata": {
        "id": "view-in-github",
        "colab_type": "text"
      },
      "source": [
        "<a href=\"https://colab.research.google.com/github/eljimenezj/CM0891-Aprendizaje-Automatico-/blob/master/Ingenieria_Caracteristicas.ipynb\" target=\"_parent\"><img src=\"https://colab.research.google.com/assets/colab-badge.svg\" alt=\"Open In Colab\"/></a>"
      ]
    },
    {
      "cell_type": "markdown",
      "metadata": {
        "id": "YdCEaQ-vPFA-",
        "colab_type": "text"
      },
      "source": [
        "# Ingeniería de caracteristicas en Python\n",
        "\n",
        "Este libro contiene un estudio de ingeniería de caracteristicas utilizando Python. Esto hace parte del curso de aprendizaje de maquinas de la Maestria de ciencia de datos.\n",
        "\n",
        "Los integrantes de este trabajo:\n",
        "\n",
        "* Santiago Echeverry Calderon\n",
        "* Edgar Leandro Jimenez Jaimes"
      ]
    },
    {
      "cell_type": "markdown",
      "metadata": {
        "id": "rvdHnuMgDEEK",
        "colab_type": "text"
      },
      "source": [
        "Vamos a instalar las librerias necesarias para la ejecución de este libro"
      ]
    },
    {
      "cell_type": "code",
      "metadata": {
        "id": "ShZqFPQ8O5fA",
        "colab_type": "code",
        "colab": {}
      },
      "source": [
        "#!pip install featuretools"
      ],
      "execution_count": 0,
      "outputs": []
    },
    {
      "cell_type": "markdown",
      "metadata": {
        "id": "I6eiy7x2PgpO",
        "colab_type": "text"
      },
      "source": [
        "Realizamos la importación de las librerias a utilizar"
      ]
    },
    {
      "cell_type": "code",
      "metadata": {
        "id": "YHzYhJtSP5jW",
        "colab_type": "code",
        "colab": {}
      },
      "source": [
        "import pandas as pd\n",
        "import numpy as np\n",
        "import featuretools as ft\n",
        "from featuretools.primitives import *\n",
        "from featuretools.variable_types import Numeric\n",
        "from sklearn.metrics import confusion_matrix \n",
        "from sklearn.metrics import classification_report\n",
        "from sklearn.linear_model import Ridge\n",
        "from sklearn.model_selection import cross_val_score\n",
        "from sklearn.linear_model import LinearRegression\n",
        "from sklearn.neighbors import KNeighborsClassifier\n",
        "from sklearn.metrics import mean_squared_error\n",
        "from sklearn.model_selection import train_test_split\n",
        "from sklearn.svm import LinearSVC\n",
        "from sklearn.feature_selection import SelectFromModel\n",
        "from sklearn.ensemble import RandomForestClassifier\n",
        "from sklearn.linear_model import LogisticRegression\n",
        "from sklearn.preprocessing  import StandardScaler\n",
        "from sklearn.preprocessing import MinMaxScaler\n",
        "import seaborn as sns\n",
        "import matplotlib.pyplot as plt\n",
        "\n",
        "import warnings\n",
        "#warnings.filterwarnings('ignore')\n"
      ],
      "execution_count": 0,
      "outputs": []
    },
    {
      "cell_type": "markdown",
      "metadata": {
        "id": "PVO6gUARDMJX",
        "colab_type": "text"
      },
      "source": [
        "Realizamos la carga del data set a utilizar:\n",
        "\n",
        "El conjunto de datos a utilizar es Heart disease prediction, este es un dataset de un estudio cardiovascular en curso en los residentes de la ciudad de Framingham, Massachusetts. \n",
        "\n",
        "El objetivo de la clasificación es predecir si el paciente tiene 10 años de riesgo de enfermedad coronaria en el futuro. El conjunto de datos proporciona la información del paciente. Incluye más de 4,000 registros y 15 atributos.  Existen factores de riesgo demográficos, conductuales y médicos."
      ]
    },
    {
      "cell_type": "code",
      "metadata": {
        "id": "hssvQaVqPap4",
        "colab_type": "code",
        "outputId": "6b27009a-f714-4e2b-db47-3029c09a5111",
        "colab": {
          "base_uri": "https://localhost:8080/",
          "height": 34
        }
      },
      "source": [
        "from google.colab import drive\n",
        "drive.mount('/content/drive')"
      ],
      "execution_count": 0,
      "outputs": [
        {
          "output_type": "stream",
          "text": [
            "Drive already mounted at /content/drive; to attempt to forcibly remount, call drive.mount(\"/content/drive\", force_remount=True).\n"
          ],
          "name": "stdout"
        }
      ]
    },
    {
      "cell_type": "code",
      "metadata": {
        "id": "lZk1srHoDTg4",
        "colab_type": "code",
        "colab": {}
      },
      "source": [
        "df = pd.read_csv('/content/drive/My Drive/CM0891-Aprendizaje-Automatico/Datasets/Heart disease prediction.csv')"
      ],
      "execution_count": 0,
      "outputs": []
    },
    {
      "cell_type": "markdown",
      "metadata": {
        "id": "iaAiKnbxQTTO",
        "colab_type": "text"
      },
      "source": [
        "Realizamos una pequeña revision de los datos que acabamos de importar"
      ]
    },
    {
      "cell_type": "code",
      "metadata": {
        "id": "WLKx7pn2SlMs",
        "colab_type": "code",
        "outputId": "8c6e720d-31f6-44d8-c16e-a362cf986a92",
        "colab": {
          "base_uri": "https://localhost:8080/",
          "height": 68
        }
      },
      "source": [
        "print(df.columns.values)"
      ],
      "execution_count": 0,
      "outputs": [
        {
          "output_type": "stream",
          "text": [
            "['male' 'age' 'education' 'currentSmoker' 'cigsPerDay' 'BPMeds'\n",
            " 'prevalentStroke' 'prevalentHyp' 'diabetes' 'totChol' 'sysBP' 'diaBP'\n",
            " 'BMI' 'heartRate' 'glucose' 'TenYearCHD']\n"
          ],
          "name": "stdout"
        }
      ]
    },
    {
      "cell_type": "code",
      "metadata": {
        "id": "iaY5vt5dS7F8",
        "colab_type": "code",
        "outputId": "0d3e0152-c291-463e-8dee-ad63c0352932",
        "colab": {
          "base_uri": "https://localhost:8080/",
          "height": 374
        }
      },
      "source": [
        "df.info()"
      ],
      "execution_count": 0,
      "outputs": [
        {
          "output_type": "stream",
          "text": [
            "<class 'pandas.core.frame.DataFrame'>\n",
            "RangeIndex: 4238 entries, 0 to 4237\n",
            "Data columns (total 16 columns):\n",
            "male               4238 non-null int64\n",
            "age                4238 non-null int64\n",
            "education          4133 non-null float64\n",
            "currentSmoker      4238 non-null int64\n",
            "cigsPerDay         4209 non-null float64\n",
            "BPMeds             4185 non-null float64\n",
            "prevalentStroke    4238 non-null int64\n",
            "prevalentHyp       4238 non-null int64\n",
            "diabetes           4238 non-null int64\n",
            "totChol            4188 non-null float64\n",
            "sysBP              4238 non-null float64\n",
            "diaBP              4238 non-null float64\n",
            "BMI                4219 non-null float64\n",
            "heartRate          4237 non-null float64\n",
            "glucose            3850 non-null float64\n",
            "TenYearCHD         4238 non-null int64\n",
            "dtypes: float64(9), int64(7)\n",
            "memory usage: 529.9 KB\n"
          ],
          "name": "stdout"
        }
      ]
    },
    {
      "cell_type": "code",
      "metadata": {
        "id": "3c2Q4JF5PH_G",
        "colab_type": "code",
        "outputId": "b1462516-b48d-4e28-a7d4-2880f0cc94d1",
        "colab": {
          "base_uri": "https://localhost:8080/",
          "height": 204
        }
      },
      "source": [
        "df.head(5)"
      ],
      "execution_count": 0,
      "outputs": [
        {
          "output_type": "execute_result",
          "data": {
            "text/html": [
              "<div>\n",
              "<style scoped>\n",
              "    .dataframe tbody tr th:only-of-type {\n",
              "        vertical-align: middle;\n",
              "    }\n",
              "\n",
              "    .dataframe tbody tr th {\n",
              "        vertical-align: top;\n",
              "    }\n",
              "\n",
              "    .dataframe thead th {\n",
              "        text-align: right;\n",
              "    }\n",
              "</style>\n",
              "<table border=\"1\" class=\"dataframe\">\n",
              "  <thead>\n",
              "    <tr style=\"text-align: right;\">\n",
              "      <th></th>\n",
              "      <th>male</th>\n",
              "      <th>age</th>\n",
              "      <th>education</th>\n",
              "      <th>currentSmoker</th>\n",
              "      <th>cigsPerDay</th>\n",
              "      <th>BPMeds</th>\n",
              "      <th>prevalentStroke</th>\n",
              "      <th>prevalentHyp</th>\n",
              "      <th>diabetes</th>\n",
              "      <th>totChol</th>\n",
              "      <th>sysBP</th>\n",
              "      <th>diaBP</th>\n",
              "      <th>BMI</th>\n",
              "      <th>heartRate</th>\n",
              "      <th>glucose</th>\n",
              "      <th>TenYearCHD</th>\n",
              "    </tr>\n",
              "  </thead>\n",
              "  <tbody>\n",
              "    <tr>\n",
              "      <th>0</th>\n",
              "      <td>1</td>\n",
              "      <td>39</td>\n",
              "      <td>4.0</td>\n",
              "      <td>0</td>\n",
              "      <td>0.0</td>\n",
              "      <td>0.0</td>\n",
              "      <td>0</td>\n",
              "      <td>0</td>\n",
              "      <td>0</td>\n",
              "      <td>195.0</td>\n",
              "      <td>106.0</td>\n",
              "      <td>70.0</td>\n",
              "      <td>26.97</td>\n",
              "      <td>80.0</td>\n",
              "      <td>77.0</td>\n",
              "      <td>0</td>\n",
              "    </tr>\n",
              "    <tr>\n",
              "      <th>1</th>\n",
              "      <td>0</td>\n",
              "      <td>46</td>\n",
              "      <td>2.0</td>\n",
              "      <td>0</td>\n",
              "      <td>0.0</td>\n",
              "      <td>0.0</td>\n",
              "      <td>0</td>\n",
              "      <td>0</td>\n",
              "      <td>0</td>\n",
              "      <td>250.0</td>\n",
              "      <td>121.0</td>\n",
              "      <td>81.0</td>\n",
              "      <td>28.73</td>\n",
              "      <td>95.0</td>\n",
              "      <td>76.0</td>\n",
              "      <td>0</td>\n",
              "    </tr>\n",
              "    <tr>\n",
              "      <th>2</th>\n",
              "      <td>1</td>\n",
              "      <td>48</td>\n",
              "      <td>1.0</td>\n",
              "      <td>1</td>\n",
              "      <td>20.0</td>\n",
              "      <td>0.0</td>\n",
              "      <td>0</td>\n",
              "      <td>0</td>\n",
              "      <td>0</td>\n",
              "      <td>245.0</td>\n",
              "      <td>127.5</td>\n",
              "      <td>80.0</td>\n",
              "      <td>25.34</td>\n",
              "      <td>75.0</td>\n",
              "      <td>70.0</td>\n",
              "      <td>0</td>\n",
              "    </tr>\n",
              "    <tr>\n",
              "      <th>3</th>\n",
              "      <td>0</td>\n",
              "      <td>61</td>\n",
              "      <td>3.0</td>\n",
              "      <td>1</td>\n",
              "      <td>30.0</td>\n",
              "      <td>0.0</td>\n",
              "      <td>0</td>\n",
              "      <td>1</td>\n",
              "      <td>0</td>\n",
              "      <td>225.0</td>\n",
              "      <td>150.0</td>\n",
              "      <td>95.0</td>\n",
              "      <td>28.58</td>\n",
              "      <td>65.0</td>\n",
              "      <td>103.0</td>\n",
              "      <td>1</td>\n",
              "    </tr>\n",
              "    <tr>\n",
              "      <th>4</th>\n",
              "      <td>0</td>\n",
              "      <td>46</td>\n",
              "      <td>3.0</td>\n",
              "      <td>1</td>\n",
              "      <td>23.0</td>\n",
              "      <td>0.0</td>\n",
              "      <td>0</td>\n",
              "      <td>0</td>\n",
              "      <td>0</td>\n",
              "      <td>285.0</td>\n",
              "      <td>130.0</td>\n",
              "      <td>84.0</td>\n",
              "      <td>23.10</td>\n",
              "      <td>85.0</td>\n",
              "      <td>85.0</td>\n",
              "      <td>0</td>\n",
              "    </tr>\n",
              "  </tbody>\n",
              "</table>\n",
              "</div>"
            ],
            "text/plain": [
              "   male  age  education  currentSmoker  ...    BMI  heartRate  glucose  TenYearCHD\n",
              "0     1   39        4.0              0  ...  26.97       80.0     77.0           0\n",
              "1     0   46        2.0              0  ...  28.73       95.0     76.0           0\n",
              "2     1   48        1.0              1  ...  25.34       75.0     70.0           0\n",
              "3     0   61        3.0              1  ...  28.58       65.0    103.0           1\n",
              "4     0   46        3.0              1  ...  23.10       85.0     85.0           0\n",
              "\n",
              "[5 rows x 16 columns]"
            ]
          },
          "metadata": {
            "tags": []
          },
          "execution_count": 64
        }
      ]
    },
    {
      "cell_type": "code",
      "metadata": {
        "id": "ylJ9cJb3Orgr",
        "colab_type": "code",
        "outputId": "1c8c247c-3564-4ea7-d8ac-b931bed8a245",
        "colab": {
          "base_uri": "https://localhost:8080/",
          "height": 317
        }
      },
      "source": [
        "df.describe()"
      ],
      "execution_count": 0,
      "outputs": [
        {
          "output_type": "execute_result",
          "data": {
            "text/html": [
              "<div>\n",
              "<style scoped>\n",
              "    .dataframe tbody tr th:only-of-type {\n",
              "        vertical-align: middle;\n",
              "    }\n",
              "\n",
              "    .dataframe tbody tr th {\n",
              "        vertical-align: top;\n",
              "    }\n",
              "\n",
              "    .dataframe thead th {\n",
              "        text-align: right;\n",
              "    }\n",
              "</style>\n",
              "<table border=\"1\" class=\"dataframe\">\n",
              "  <thead>\n",
              "    <tr style=\"text-align: right;\">\n",
              "      <th></th>\n",
              "      <th>male</th>\n",
              "      <th>age</th>\n",
              "      <th>education</th>\n",
              "      <th>currentSmoker</th>\n",
              "      <th>cigsPerDay</th>\n",
              "      <th>BPMeds</th>\n",
              "      <th>prevalentStroke</th>\n",
              "      <th>prevalentHyp</th>\n",
              "      <th>diabetes</th>\n",
              "      <th>totChol</th>\n",
              "      <th>sysBP</th>\n",
              "      <th>diaBP</th>\n",
              "      <th>BMI</th>\n",
              "      <th>heartRate</th>\n",
              "      <th>glucose</th>\n",
              "      <th>TenYearCHD</th>\n",
              "    </tr>\n",
              "  </thead>\n",
              "  <tbody>\n",
              "    <tr>\n",
              "      <th>count</th>\n",
              "      <td>4238.000000</td>\n",
              "      <td>4238.000000</td>\n",
              "      <td>4133.000000</td>\n",
              "      <td>4238.000000</td>\n",
              "      <td>4209.000000</td>\n",
              "      <td>4185.000000</td>\n",
              "      <td>4238.000000</td>\n",
              "      <td>4238.000000</td>\n",
              "      <td>4238.000000</td>\n",
              "      <td>4188.000000</td>\n",
              "      <td>4238.000000</td>\n",
              "      <td>4238.000000</td>\n",
              "      <td>4219.000000</td>\n",
              "      <td>4237.000000</td>\n",
              "      <td>3850.000000</td>\n",
              "      <td>4238.000000</td>\n",
              "    </tr>\n",
              "    <tr>\n",
              "      <th>mean</th>\n",
              "      <td>0.429212</td>\n",
              "      <td>49.584946</td>\n",
              "      <td>1.978950</td>\n",
              "      <td>0.494101</td>\n",
              "      <td>9.003089</td>\n",
              "      <td>0.029630</td>\n",
              "      <td>0.005899</td>\n",
              "      <td>0.310524</td>\n",
              "      <td>0.025720</td>\n",
              "      <td>236.721585</td>\n",
              "      <td>132.352407</td>\n",
              "      <td>82.893464</td>\n",
              "      <td>25.802008</td>\n",
              "      <td>75.878924</td>\n",
              "      <td>81.966753</td>\n",
              "      <td>0.151958</td>\n",
              "    </tr>\n",
              "    <tr>\n",
              "      <th>std</th>\n",
              "      <td>0.495022</td>\n",
              "      <td>8.572160</td>\n",
              "      <td>1.019791</td>\n",
              "      <td>0.500024</td>\n",
              "      <td>11.920094</td>\n",
              "      <td>0.169584</td>\n",
              "      <td>0.076587</td>\n",
              "      <td>0.462763</td>\n",
              "      <td>0.158316</td>\n",
              "      <td>44.590334</td>\n",
              "      <td>22.038097</td>\n",
              "      <td>11.910850</td>\n",
              "      <td>4.080111</td>\n",
              "      <td>12.026596</td>\n",
              "      <td>23.959998</td>\n",
              "      <td>0.359023</td>\n",
              "    </tr>\n",
              "    <tr>\n",
              "      <th>min</th>\n",
              "      <td>0.000000</td>\n",
              "      <td>32.000000</td>\n",
              "      <td>1.000000</td>\n",
              "      <td>0.000000</td>\n",
              "      <td>0.000000</td>\n",
              "      <td>0.000000</td>\n",
              "      <td>0.000000</td>\n",
              "      <td>0.000000</td>\n",
              "      <td>0.000000</td>\n",
              "      <td>107.000000</td>\n",
              "      <td>83.500000</td>\n",
              "      <td>48.000000</td>\n",
              "      <td>15.540000</td>\n",
              "      <td>44.000000</td>\n",
              "      <td>40.000000</td>\n",
              "      <td>0.000000</td>\n",
              "    </tr>\n",
              "    <tr>\n",
              "      <th>25%</th>\n",
              "      <td>0.000000</td>\n",
              "      <td>42.000000</td>\n",
              "      <td>1.000000</td>\n",
              "      <td>0.000000</td>\n",
              "      <td>0.000000</td>\n",
              "      <td>0.000000</td>\n",
              "      <td>0.000000</td>\n",
              "      <td>0.000000</td>\n",
              "      <td>0.000000</td>\n",
              "      <td>206.000000</td>\n",
              "      <td>117.000000</td>\n",
              "      <td>75.000000</td>\n",
              "      <td>23.070000</td>\n",
              "      <td>68.000000</td>\n",
              "      <td>71.000000</td>\n",
              "      <td>0.000000</td>\n",
              "    </tr>\n",
              "    <tr>\n",
              "      <th>50%</th>\n",
              "      <td>0.000000</td>\n",
              "      <td>49.000000</td>\n",
              "      <td>2.000000</td>\n",
              "      <td>0.000000</td>\n",
              "      <td>0.000000</td>\n",
              "      <td>0.000000</td>\n",
              "      <td>0.000000</td>\n",
              "      <td>0.000000</td>\n",
              "      <td>0.000000</td>\n",
              "      <td>234.000000</td>\n",
              "      <td>128.000000</td>\n",
              "      <td>82.000000</td>\n",
              "      <td>25.400000</td>\n",
              "      <td>75.000000</td>\n",
              "      <td>78.000000</td>\n",
              "      <td>0.000000</td>\n",
              "    </tr>\n",
              "    <tr>\n",
              "      <th>75%</th>\n",
              "      <td>1.000000</td>\n",
              "      <td>56.000000</td>\n",
              "      <td>3.000000</td>\n",
              "      <td>1.000000</td>\n",
              "      <td>20.000000</td>\n",
              "      <td>0.000000</td>\n",
              "      <td>0.000000</td>\n",
              "      <td>1.000000</td>\n",
              "      <td>0.000000</td>\n",
              "      <td>263.000000</td>\n",
              "      <td>144.000000</td>\n",
              "      <td>89.875000</td>\n",
              "      <td>28.040000</td>\n",
              "      <td>83.000000</td>\n",
              "      <td>87.000000</td>\n",
              "      <td>0.000000</td>\n",
              "    </tr>\n",
              "    <tr>\n",
              "      <th>max</th>\n",
              "      <td>1.000000</td>\n",
              "      <td>70.000000</td>\n",
              "      <td>4.000000</td>\n",
              "      <td>1.000000</td>\n",
              "      <td>70.000000</td>\n",
              "      <td>1.000000</td>\n",
              "      <td>1.000000</td>\n",
              "      <td>1.000000</td>\n",
              "      <td>1.000000</td>\n",
              "      <td>696.000000</td>\n",
              "      <td>295.000000</td>\n",
              "      <td>142.500000</td>\n",
              "      <td>56.800000</td>\n",
              "      <td>143.000000</td>\n",
              "      <td>394.000000</td>\n",
              "      <td>1.000000</td>\n",
              "    </tr>\n",
              "  </tbody>\n",
              "</table>\n",
              "</div>"
            ],
            "text/plain": [
              "              male          age  ...      glucose   TenYearCHD\n",
              "count  4238.000000  4238.000000  ...  3850.000000  4238.000000\n",
              "mean      0.429212    49.584946  ...    81.966753     0.151958\n",
              "std       0.495022     8.572160  ...    23.959998     0.359023\n",
              "min       0.000000    32.000000  ...    40.000000     0.000000\n",
              "25%       0.000000    42.000000  ...    71.000000     0.000000\n",
              "50%       0.000000    49.000000  ...    78.000000     0.000000\n",
              "75%       1.000000    56.000000  ...    87.000000     0.000000\n",
              "max       1.000000    70.000000  ...   394.000000     1.000000\n",
              "\n",
              "[8 rows x 16 columns]"
            ]
          },
          "metadata": {
            "tags": []
          },
          "execution_count": 65
        }
      ]
    },
    {
      "cell_type": "code",
      "metadata": {
        "id": "fGXwXVAhQMvf",
        "colab_type": "code",
        "outputId": "4762aac5-260f-424d-ece1-7eca9b80e62b",
        "colab": {
          "base_uri": "https://localhost:8080/",
          "height": 356
        }
      },
      "source": [
        "sns.heatmap(df.corr(), square=True, cmap='RdYlGn') "
      ],
      "execution_count": 0,
      "outputs": [
        {
          "output_type": "execute_result",
          "data": {
            "text/plain": [
              "<matplotlib.axes._subplots.AxesSubplot at 0x7fe10a075e80>"
            ]
          },
          "metadata": {
            "tags": []
          },
          "execution_count": 66
        },
        {
          "output_type": "display_data",
          "data": {
            "image/png": "[encoded data removed]",
            "text/plain": [
              "<Figure size 432x288 with 2 Axes>"
            ]
          },
          "metadata": {
            "tags": []
          }
        }
      ]
    },
    {
      "cell_type": "markdown",
      "metadata": {
        "id": "NKJmDS4tX6YW",
        "colab_type": "text"
      },
      "source": [
        "Vamos a revisar la calidad de los datos"
      ]
    },
    {
      "cell_type": "code",
      "metadata": {
        "id": "bWthFsgrX6lV",
        "colab_type": "code",
        "outputId": "22422982-8c9e-4a71-94d2-7cd3a471f707",
        "colab": {
          "base_uri": "https://localhost:8080/",
          "height": 306
        }
      },
      "source": [
        "# Revisamos cuantos NA tiene la información\n",
        "df.isna().sum()"
      ],
      "execution_count": 0,
      "outputs": [
        {
          "output_type": "execute_result",
          "data": {
            "text/plain": [
              "male                 0\n",
              "age                  0\n",
              "education          105\n",
              "currentSmoker        0\n",
              "cigsPerDay          29\n",
              "BPMeds              53\n",
              "prevalentStroke      0\n",
              "prevalentHyp         0\n",
              "diabetes             0\n",
              "totChol             50\n",
              "sysBP                0\n",
              "diaBP                0\n",
              "BMI                 19\n",
              "heartRate            1\n",
              "glucose            388\n",
              "TenYearCHD           0\n",
              "dtype: int64"
            ]
          },
          "metadata": {
            "tags": []
          },
          "execution_count": 67
        }
      ]
    },
    {
      "cell_type": "code",
      "metadata": {
        "id": "Evsl4DPcYVtQ",
        "colab_type": "code",
        "outputId": "bd65189d-ae78-46e0-a206-16d37c241a57",
        "colab": {
          "base_uri": "https://localhost:8080/",
          "height": 34
        }
      },
      "source": [
        "# Vamos a retirar los registros nulos para este caso\n",
        "\n",
        "# Tamaño inicial del dataset\n",
        "df.shape"
      ],
      "execution_count": 0,
      "outputs": [
        {
          "output_type": "execute_result",
          "data": {
            "text/plain": [
              "(4238, 16)"
            ]
          },
          "metadata": {
            "tags": []
          },
          "execution_count": 68
        }
      ]
    },
    {
      "cell_type": "code",
      "metadata": {
        "id": "p-psY8Y0Y7Qu",
        "colab_type": "code",
        "colab": {}
      },
      "source": [
        "# Eliminamos los registros con NA\n",
        "df = df.dropna()"
      ],
      "execution_count": 0,
      "outputs": []
    },
    {
      "cell_type": "code",
      "metadata": {
        "id": "jw6q6LNgZA7U",
        "colab_type": "code",
        "outputId": "22ecf5ff-1950-4dc1-da0d-45369d2334b1",
        "colab": {
          "base_uri": "https://localhost:8080/",
          "height": 34
        }
      },
      "source": [
        "# Tamaño luego de retirar registros con NA\n",
        "df.shape"
      ],
      "execution_count": 0,
      "outputs": [
        {
          "output_type": "execute_result",
          "data": {
            "text/plain": [
              "(3656, 16)"
            ]
          },
          "metadata": {
            "tags": []
          },
          "execution_count": 70
        }
      ]
    },
    {
      "cell_type": "markdown",
      "metadata": {
        "id": "MO-gYn2QR6Fa",
        "colab_type": "text"
      },
      "source": [
        "# Ingenieria de caracteristicas utilizando libreria"
      ]
    },
    {
      "cell_type": "code",
      "metadata": {
        "id": "bbRbhjDhVY01",
        "colab_type": "code",
        "colab": {}
      },
      "source": [
        "# Resetear el indice despues del borrado de los missing values\n",
        "df2 = df.reset_index(drop=True)\n",
        "df2.reset_index(inplace=True)\n",
        "df2"
      ],
      "execution_count": 0,
      "outputs": []
    },
    {
      "cell_type": "markdown",
      "metadata": {
        "id": "V7svV-SORW5Q",
        "colab_type": "text"
      },
      "source": [
        "#### Creación de la entidad para generación de nuevos atributos\n"
      ]
    },
    {
      "cell_type": "code",
      "metadata": {
        "id": "VBG_4aKPVYyK",
        "colab_type": "code",
        "outputId": "a4e68a8f-9429-4be4-ee41-d1f9b77ec812",
        "colab": {
          "base_uri": "https://localhost:8080/",
          "height": 102
        }
      },
      "source": [
        "es = ft.EntitySet(id = 'heart_disease_data')\n",
        "\n",
        "es = es.entity_from_dataframe(entity_id = 'df2', dataframe = df2.drop(['TenYearCHD'], axis=1),\n",
        "                              variable_types = \n",
        "                              {\n",
        "                                  'male': ft.variable_types.Boolean,\n",
        "                                  'age': ft.variable_types.Numeric,\n",
        "                                  'education': ft.variable_types.Ordinal,\n",
        "                                  'currentSmoker': ft.variable_types.Boolean,\n",
        "                                  'cigsPerDay': ft.variable_types.Numeric,\n",
        "                                  'BPMeds': ft.variable_types.Boolean,\n",
        "                                  'prevalentStroke': ft.variable_types.Boolean,\n",
        "                                  'prevalentHyp': ft.variable_types.Boolean,\n",
        "                                  'diabetes': ft.variable_types.Boolean,\n",
        "                                  'totChol': ft.variable_types.Numeric,\n",
        "                                  'sysBP': ft.variable_types.Numeric,\n",
        "                                  'diaBP': ft.variable_types.Numeric,\n",
        "                                  'BMI': ft.variable_types.Numeric,\n",
        "                                  'heartRate': ft.variable_types.Numeric,\n",
        "                                  'glucose': ft.variable_types.Numeric,\n",
        "                              }, \n",
        "                              index = 'index')\n",
        "\n",
        "es"
      ],
      "execution_count": 0,
      "outputs": [
        {
          "output_type": "execute_result",
          "data": {
            "text/plain": [
              "Entityset: heart_disease_data\n",
              "  Entities:\n",
              "    df2 [Rows: 3656, Columns: 16]\n",
              "  Relationships:\n",
              "    No relationships"
            ]
          },
          "metadata": {
            "tags": []
          },
          "execution_count": 79
        }
      ]
    },
    {
      "cell_type": "code",
      "metadata": {
        "id": "lihGiiqaGMJw",
        "colab_type": "code",
        "outputId": "85ee170f-0139-478c-cfcc-99ad2f52c33c",
        "colab": {
          "base_uri": "https://localhost:8080/",
          "height": 238
        }
      },
      "source": [
        "es = es.normalize_entity(base_entity_id='df2', new_entity_id='male', index='male')\n",
        "es = es.normalize_entity(base_entity_id='df2', new_entity_id='education', index='education')\n",
        "es = es.normalize_entity(base_entity_id='df2', new_entity_id='currentSmoker', index='currentSmoker')\n",
        "es = es.normalize_entity(base_entity_id='df2', new_entity_id='diabetes', index='diabetes')\n",
        "es"
      ],
      "execution_count": 0,
      "outputs": [
        {
          "output_type": "stream",
          "text": [
            "2020-02-20 01:24:07,606 featuretools.entityset - WARNING    Not adding duplicate relationship: <Relationship: df2.currentSmoker -> currentSmoker.currentSmoker>\n"
          ],
          "name": "stdout"
        },
        {
          "output_type": "execute_result",
          "data": {
            "text/plain": [
              "Entityset: heart_disease_data\n",
              "  Entities:\n",
              "    df2 [Rows: 3656, Columns: 16]\n",
              "    currentSmoker [Rows: 2, Columns: 1]\n",
              "    male [Rows: 2, Columns: 1]\n",
              "    education [Rows: 4, Columns: 1]\n",
              "    diabetes [Rows: 2, Columns: 1]\n",
              "  Relationships:\n",
              "    df2.currentSmoker -> currentSmoker.currentSmoker\n",
              "    df2.male -> male.male\n",
              "    df2.education -> education.education\n",
              "    df2.diabetes -> diabetes.diabetes"
            ]
          },
          "metadata": {
            "tags": []
          },
          "execution_count": 81
        }
      ]
    },
    {
      "cell_type": "code",
      "metadata": {
        "id": "HWcyAOuVMxfj",
        "colab_type": "code",
        "colab": {}
      },
      "source": [
        "features, feature_names = ft.dfs(entityset = es, \n",
        "                                 target_entity = 'df2', \n",
        "                                 max_depth = 2)"
      ],
      "execution_count": 0,
      "outputs": []
    },
    {
      "cell_type": "code",
      "metadata": {
        "id": "8n5vMSlbPezD",
        "colab_type": "code",
        "colab": {}
      },
      "source": [
        "features.head()"
      ],
      "execution_count": 0,
      "outputs": []
    },
    {
      "cell_type": "code",
      "metadata": {
        "id": "3bAfX4pbNTDo",
        "colab_type": "code",
        "outputId": "5a915927-1fc6-49a1-e82f-d72eeef40249",
        "colab": {
          "base_uri": "https://localhost:8080/",
          "height": 34
        }
      },
      "source": [
        "len(feature_names)"
      ],
      "execution_count": 0,
      "outputs": [
        {
          "output_type": "execute_result",
          "data": {
            "text/plain": [
              "247"
            ]
          },
          "metadata": {
            "tags": []
          },
          "execution_count": 89
        }
      ]
    },
    {
      "cell_type": "code",
      "metadata": {
        "id": "Oa1KA-eHOPAh",
        "colab_type": "code",
        "colab": {}
      },
      "source": [
        "feature_names"
      ],
      "execution_count": 0,
      "outputs": []
    },
    {
      "cell_type": "code",
      "metadata": {
        "id": "QWLFs-0-OHAg",
        "colab_type": "code",
        "outputId": "7534c15e-7e3c-46d1-9642-9adfca5501cd",
        "colab": {
          "base_uri": "https://localhost:8080/",
          "height": 235
        }
      },
      "source": [
        "features[features['age'] > 30][[\"diabetes.MEAN(df2.age)\",\"age\",\"diabetes\"]].head()"
      ],
      "execution_count": 0,
      "outputs": [
        {
          "output_type": "execute_result",
          "data": {
            "text/html": [
              "<div>\n",
              "<style scoped>\n",
              "    .dataframe tbody tr th:only-of-type {\n",
              "        vertical-align: middle;\n",
              "    }\n",
              "\n",
              "    .dataframe tbody tr th {\n",
              "        vertical-align: top;\n",
              "    }\n",
              "\n",
              "    .dataframe thead th {\n",
              "        text-align: right;\n",
              "    }\n",
              "</style>\n",
              "<table border=\"1\" class=\"dataframe\">\n",
              "  <thead>\n",
              "    <tr style=\"text-align: right;\">\n",
              "      <th></th>\n",
              "      <th>diabetes.MEAN(df2.age)</th>\n",
              "      <th>age</th>\n",
              "      <th>diabetes</th>\n",
              "    </tr>\n",
              "    <tr>\n",
              "      <th>index</th>\n",
              "      <th></th>\n",
              "      <th></th>\n",
              "      <th></th>\n",
              "    </tr>\n",
              "  </thead>\n",
              "  <tbody>\n",
              "    <tr>\n",
              "      <th>0</th>\n",
              "      <td>49.401743</td>\n",
              "      <td>39</td>\n",
              "      <td>0</td>\n",
              "    </tr>\n",
              "    <tr>\n",
              "      <th>1</th>\n",
              "      <td>49.401743</td>\n",
              "      <td>46</td>\n",
              "      <td>0</td>\n",
              "    </tr>\n",
              "    <tr>\n",
              "      <th>2</th>\n",
              "      <td>49.401743</td>\n",
              "      <td>48</td>\n",
              "      <td>0</td>\n",
              "    </tr>\n",
              "    <tr>\n",
              "      <th>3</th>\n",
              "      <td>49.401743</td>\n",
              "      <td>61</td>\n",
              "      <td>0</td>\n",
              "    </tr>\n",
              "    <tr>\n",
              "      <th>4</th>\n",
              "      <td>49.401743</td>\n",
              "      <td>46</td>\n",
              "      <td>0</td>\n",
              "    </tr>\n",
              "  </tbody>\n",
              "</table>\n",
              "</div>"
            ],
            "text/plain": [
              "       diabetes.MEAN(df2.age)  age  diabetes\n",
              "index                                       \n",
              "0                   49.401743   39         0\n",
              "1                   49.401743   46         0\n",
              "2                   49.401743   48         0\n",
              "3                   49.401743   61         0\n",
              "4                   49.401743   46         0"
            ]
          },
          "metadata": {
            "tags": []
          },
          "execution_count": 93
        }
      ]
    },
    {
      "cell_type": "markdown",
      "metadata": {
        "id": "AniTCt2ARkOV",
        "colab_type": "text"
      },
      "source": [
        "#### Selección de atributos según colinealidad\n"
      ]
    },
    {
      "cell_type": "code",
      "metadata": {
        "id": "KHM5lxo2PUmC",
        "colab_type": "code",
        "colab": {}
      },
      "source": [
        "# Threshold for removing correlated variables\n",
        "threshold = 0.95\n",
        "\n",
        "# Absolute value correlation matrix\n",
        "corr_matrix = features.corr().abs()\n",
        "upper = corr_matrix.where(np.triu(np.ones(corr_matrix.shape), k=1).astype(np.bool))\n",
        "upper.head(50)"
      ],
      "execution_count": 0,
      "outputs": []
    },
    {
      "cell_type": "code",
      "metadata": {
        "id": "WPS7hjqmQQkA",
        "colab_type": "code",
        "outputId": "19b489eb-a0d1-474d-c4c9-6c48672fb2b6",
        "colab": {
          "base_uri": "https://localhost:8080/",
          "height": 34
        }
      },
      "source": [
        "# Select columns with correlations above threshold\n",
        "collinear_features = [column for column in upper.columns if any(upper[column] > threshold)]\n",
        "\n",
        "print('There are %d features to remove.' % (len(collinear_features)))"
      ],
      "execution_count": 0,
      "outputs": [
        {
          "output_type": "stream",
          "text": [
            "There are 193 features to remove.\n"
          ],
          "name": "stdout"
        }
      ]
    },
    {
      "cell_type": "code",
      "metadata": {
        "id": "ow721a3YQb86",
        "colab_type": "code",
        "outputId": "8fe8e337-f347-4e79-d497-15327af8e165",
        "colab": {
          "base_uri": "https://localhost:8080/",
          "height": 34
        }
      },
      "source": [
        "features_filtered = features.drop(columns = collinear_features)\n",
        "\n",
        "print('The number of features that passed the collinearity threshold: ', features_filtered.shape[1])"
      ],
      "execution_count": 0,
      "outputs": [
        {
          "output_type": "stream",
          "text": [
            "The number of features that passed the collinearity threshold:  54\n"
          ],
          "name": "stdout"
        }
      ]
    },
    {
      "cell_type": "code",
      "metadata": {
        "id": "1UQhx5bOQxUh",
        "colab_type": "code",
        "outputId": "bf1a0bfb-488b-4284-b1a7-5e79215cdfc0",
        "colab": {
          "base_uri": "https://localhost:8080/",
          "height": 255
        }
      },
      "source": [
        "features_filtered.head()"
      ],
      "execution_count": 0,
      "outputs": [
        {
          "output_type": "execute_result",
          "data": {
            "text/html": [
              "<div>\n",
              "<style scoped>\n",
              "    .dataframe tbody tr th:only-of-type {\n",
              "        vertical-align: middle;\n",
              "    }\n",
              "\n",
              "    .dataframe tbody tr th {\n",
              "        vertical-align: top;\n",
              "    }\n",
              "\n",
              "    .dataframe thead th {\n",
              "        text-align: right;\n",
              "    }\n",
              "</style>\n",
              "<table border=\"1\" class=\"dataframe\">\n",
              "  <thead>\n",
              "    <tr style=\"text-align: right;\">\n",
              "      <th></th>\n",
              "      <th>male</th>\n",
              "      <th>age</th>\n",
              "      <th>education</th>\n",
              "      <th>currentSmoker</th>\n",
              "      <th>cigsPerDay</th>\n",
              "      <th>BPMeds</th>\n",
              "      <th>prevalentStroke</th>\n",
              "      <th>prevalentHyp</th>\n",
              "      <th>diabetes</th>\n",
              "      <th>totChol</th>\n",
              "      <th>sysBP</th>\n",
              "      <th>diaBP</th>\n",
              "      <th>BMI</th>\n",
              "      <th>heartRate</th>\n",
              "      <th>glucose</th>\n",
              "      <th>currentSmoker.MIN(df2.glucose)</th>\n",
              "      <th>currentSmoker.NUM_UNIQUE(df2.male)</th>\n",
              "      <th>currentSmoker.NUM_UNIQUE(df2.education)</th>\n",
              "      <th>currentSmoker.NUM_UNIQUE(df2.diabetes)</th>\n",
              "      <th>currentSmoker.MODE(df2.education)</th>\n",
              "      <th>currentSmoker.MODE(df2.diabetes)</th>\n",
              "      <th>male.MAX(df2.glucose)</th>\n",
              "      <th>male.MIN(df2.cigsPerDay)</th>\n",
              "      <th>male.MIN(df2.sysBP)</th>\n",
              "      <th>male.MIN(df2.glucose)</th>\n",
              "      <th>male.NUM_UNIQUE(df2.education)</th>\n",
              "      <th>male.NUM_UNIQUE(df2.currentSmoker)</th>\n",
              "      <th>male.NUM_UNIQUE(df2.diabetes)</th>\n",
              "      <th>male.MODE(df2.education)</th>\n",
              "      <th>male.MODE(df2.diabetes)</th>\n",
              "      <th>education.STD(df2.age)</th>\n",
              "      <th>education.STD(df2.cigsPerDay)</th>\n",
              "      <th>education.STD(df2.totChol)</th>\n",
              "      <th>education.STD(df2.glucose)</th>\n",
              "      <th>education.MAX(df2.age)</th>\n",
              "      <th>education.MAX(df2.cigsPerDay)</th>\n",
              "      <th>education.MAX(df2.totChol)</th>\n",
              "      <th>education.MAX(df2.glucose)</th>\n",
              "      <th>education.SKEW(df2.age)</th>\n",
              "      <th>education.SKEW(df2.cigsPerDay)</th>\n",
              "      <th>education.SKEW(df2.heartRate)</th>\n",
              "      <th>education.MIN(df2.cigsPerDay)</th>\n",
              "      <th>education.MIN(df2.glucose)</th>\n",
              "      <th>education.NUM_UNIQUE(df2.male)</th>\n",
              "      <th>education.NUM_UNIQUE(df2.currentSmoker)</th>\n",
              "      <th>education.NUM_UNIQUE(df2.diabetes)</th>\n",
              "      <th>education.MODE(df2.diabetes)</th>\n",
              "      <th>diabetes.MIN(df2.cigsPerDay)</th>\n",
              "      <th>diabetes.NUM_UNIQUE(df2.male)</th>\n",
              "      <th>diabetes.NUM_UNIQUE(df2.education)</th>\n",
              "      <th>diabetes.NUM_UNIQUE(df2.currentSmoker)</th>\n",
              "      <th>diabetes.MODE(df2.male)</th>\n",
              "      <th>diabetes.MODE(df2.education)</th>\n",
              "      <th>diabetes.MODE(df2.currentSmoker)</th>\n",
              "    </tr>\n",
              "    <tr>\n",
              "      <th>index</th>\n",
              "      <th></th>\n",
              "      <th></th>\n",
              "      <th></th>\n",
              "      <th></th>\n",
              "      <th></th>\n",
              "      <th></th>\n",
              "      <th></th>\n",
              "      <th></th>\n",
              "      <th></th>\n",
              "      <th></th>\n",
              "      <th></th>\n",
              "      <th></th>\n",
              "      <th></th>\n",
              "      <th></th>\n",
              "      <th></th>\n",
              "      <th></th>\n",
              "      <th></th>\n",
              "      <th></th>\n",
              "      <th></th>\n",
              "      <th></th>\n",
              "      <th></th>\n",
              "      <th></th>\n",
              "      <th></th>\n",
              "      <th></th>\n",
              "      <th></th>\n",
              "      <th></th>\n",
              "      <th></th>\n",
              "      <th></th>\n",
              "      <th></th>\n",
              "      <th></th>\n",
              "      <th></th>\n",
              "      <th></th>\n",
              "      <th></th>\n",
              "      <th></th>\n",
              "      <th></th>\n",
              "      <th></th>\n",
              "      <th></th>\n",
              "      <th></th>\n",
              "      <th></th>\n",
              "      <th></th>\n",
              "      <th></th>\n",
              "      <th></th>\n",
              "      <th></th>\n",
              "      <th></th>\n",
              "      <th></th>\n",
              "      <th></th>\n",
              "      <th></th>\n",
              "      <th></th>\n",
              "      <th></th>\n",
              "      <th></th>\n",
              "      <th></th>\n",
              "      <th></th>\n",
              "      <th></th>\n",
              "      <th></th>\n",
              "    </tr>\n",
              "  </thead>\n",
              "  <tbody>\n",
              "    <tr>\n",
              "      <th>0</th>\n",
              "      <td>1</td>\n",
              "      <td>39</td>\n",
              "      <td>4.0</td>\n",
              "      <td>0</td>\n",
              "      <td>0.0</td>\n",
              "      <td>0.0</td>\n",
              "      <td>0</td>\n",
              "      <td>0</td>\n",
              "      <td>0</td>\n",
              "      <td>195.0</td>\n",
              "      <td>106.0</td>\n",
              "      <td>70.0</td>\n",
              "      <td>26.97</td>\n",
              "      <td>80.0</td>\n",
              "      <td>77.0</td>\n",
              "      <td>40.0</td>\n",
              "      <td>2</td>\n",
              "      <td>4</td>\n",
              "      <td>2</td>\n",
              "      <td>1.0</td>\n",
              "      <td>0</td>\n",
              "      <td>394.0</td>\n",
              "      <td>0.0</td>\n",
              "      <td>83.5</td>\n",
              "      <td>40.0</td>\n",
              "      <td>4</td>\n",
              "      <td>2</td>\n",
              "      <td>2</td>\n",
              "      <td>1.0</td>\n",
              "      <td>0</td>\n",
              "      <td>8.285730</td>\n",
              "      <td>12.417844</td>\n",
              "      <td>40.351822</td>\n",
              "      <td>16.024154</td>\n",
              "      <td>67</td>\n",
              "      <td>60.0</td>\n",
              "      <td>382.0</td>\n",
              "      <td>183.0</td>\n",
              "      <td>0.418979</td>\n",
              "      <td>1.154373</td>\n",
              "      <td>0.378180</td>\n",
              "      <td>0.0</td>\n",
              "      <td>43.0</td>\n",
              "      <td>2</td>\n",
              "      <td>2</td>\n",
              "      <td>2</td>\n",
              "      <td>0</td>\n",
              "      <td>0.0</td>\n",
              "      <td>2</td>\n",
              "      <td>4</td>\n",
              "      <td>2</td>\n",
              "      <td>0</td>\n",
              "      <td>1.0</td>\n",
              "      <td>0</td>\n",
              "    </tr>\n",
              "    <tr>\n",
              "      <th>1</th>\n",
              "      <td>0</td>\n",
              "      <td>46</td>\n",
              "      <td>2.0</td>\n",
              "      <td>0</td>\n",
              "      <td>0.0</td>\n",
              "      <td>0.0</td>\n",
              "      <td>0</td>\n",
              "      <td>0</td>\n",
              "      <td>0</td>\n",
              "      <td>250.0</td>\n",
              "      <td>121.0</td>\n",
              "      <td>81.0</td>\n",
              "      <td>28.73</td>\n",
              "      <td>95.0</td>\n",
              "      <td>76.0</td>\n",
              "      <td>40.0</td>\n",
              "      <td>2</td>\n",
              "      <td>4</td>\n",
              "      <td>2</td>\n",
              "      <td>1.0</td>\n",
              "      <td>0</td>\n",
              "      <td>394.0</td>\n",
              "      <td>0.0</td>\n",
              "      <td>83.5</td>\n",
              "      <td>40.0</td>\n",
              "      <td>4</td>\n",
              "      <td>2</td>\n",
              "      <td>2</td>\n",
              "      <td>1.0</td>\n",
              "      <td>0</td>\n",
              "      <td>8.296487</td>\n",
              "      <td>11.817173</td>\n",
              "      <td>46.493689</td>\n",
              "      <td>22.116877</td>\n",
              "      <td>70</td>\n",
              "      <td>60.0</td>\n",
              "      <td>600.0</td>\n",
              "      <td>394.0</td>\n",
              "      <td>0.546940</td>\n",
              "      <td>1.046002</td>\n",
              "      <td>0.507869</td>\n",
              "      <td>0.0</td>\n",
              "      <td>40.0</td>\n",
              "      <td>2</td>\n",
              "      <td>2</td>\n",
              "      <td>2</td>\n",
              "      <td>0</td>\n",
              "      <td>0.0</td>\n",
              "      <td>2</td>\n",
              "      <td>4</td>\n",
              "      <td>2</td>\n",
              "      <td>0</td>\n",
              "      <td>1.0</td>\n",
              "      <td>0</td>\n",
              "    </tr>\n",
              "    <tr>\n",
              "      <th>2</th>\n",
              "      <td>1</td>\n",
              "      <td>48</td>\n",
              "      <td>1.0</td>\n",
              "      <td>1</td>\n",
              "      <td>20.0</td>\n",
              "      <td>0.0</td>\n",
              "      <td>0</td>\n",
              "      <td>0</td>\n",
              "      <td>0</td>\n",
              "      <td>245.0</td>\n",
              "      <td>127.5</td>\n",
              "      <td>80.0</td>\n",
              "      <td>25.34</td>\n",
              "      <td>75.0</td>\n",
              "      <td>70.0</td>\n",
              "      <td>40.0</td>\n",
              "      <td>2</td>\n",
              "      <td>4</td>\n",
              "      <td>2</td>\n",
              "      <td>1.0</td>\n",
              "      <td>0</td>\n",
              "      <td>394.0</td>\n",
              "      <td>0.0</td>\n",
              "      <td>83.5</td>\n",
              "      <td>40.0</td>\n",
              "      <td>4</td>\n",
              "      <td>2</td>\n",
              "      <td>2</td>\n",
              "      <td>1.0</td>\n",
              "      <td>0</td>\n",
              "      <td>8.414159</td>\n",
              "      <td>12.035009</td>\n",
              "      <td>43.073275</td>\n",
              "      <td>25.261233</td>\n",
              "      <td>69</td>\n",
              "      <td>60.0</td>\n",
              "      <td>432.0</td>\n",
              "      <td>386.0</td>\n",
              "      <td>-0.044619</td>\n",
              "      <td>1.341062</td>\n",
              "      <td>0.797690</td>\n",
              "      <td>0.0</td>\n",
              "      <td>40.0</td>\n",
              "      <td>2</td>\n",
              "      <td>2</td>\n",
              "      <td>2</td>\n",
              "      <td>0</td>\n",
              "      <td>0.0</td>\n",
              "      <td>2</td>\n",
              "      <td>4</td>\n",
              "      <td>2</td>\n",
              "      <td>0</td>\n",
              "      <td>1.0</td>\n",
              "      <td>0</td>\n",
              "    </tr>\n",
              "    <tr>\n",
              "      <th>3</th>\n",
              "      <td>0</td>\n",
              "      <td>61</td>\n",
              "      <td>3.0</td>\n",
              "      <td>1</td>\n",
              "      <td>30.0</td>\n",
              "      <td>0.0</td>\n",
              "      <td>0</td>\n",
              "      <td>1</td>\n",
              "      <td>0</td>\n",
              "      <td>225.0</td>\n",
              "      <td>150.0</td>\n",
              "      <td>95.0</td>\n",
              "      <td>28.58</td>\n",
              "      <td>65.0</td>\n",
              "      <td>103.0</td>\n",
              "      <td>40.0</td>\n",
              "      <td>2</td>\n",
              "      <td>4</td>\n",
              "      <td>2</td>\n",
              "      <td>1.0</td>\n",
              "      <td>0</td>\n",
              "      <td>394.0</td>\n",
              "      <td>0.0</td>\n",
              "      <td>83.5</td>\n",
              "      <td>40.0</td>\n",
              "      <td>4</td>\n",
              "      <td>2</td>\n",
              "      <td>2</td>\n",
              "      <td>1.0</td>\n",
              "      <td>0</td>\n",
              "      <td>8.136133</td>\n",
              "      <td>11.369730</td>\n",
              "      <td>44.637853</td>\n",
              "      <td>27.760985</td>\n",
              "      <td>69</td>\n",
              "      <td>70.0</td>\n",
              "      <td>464.0</td>\n",
              "      <td>394.0</td>\n",
              "      <td>0.305326</td>\n",
              "      <td>1.358624</td>\n",
              "      <td>0.831521</td>\n",
              "      <td>0.0</td>\n",
              "      <td>44.0</td>\n",
              "      <td>2</td>\n",
              "      <td>2</td>\n",
              "      <td>2</td>\n",
              "      <td>0</td>\n",
              "      <td>0.0</td>\n",
              "      <td>2</td>\n",
              "      <td>4</td>\n",
              "      <td>2</td>\n",
              "      <td>0</td>\n",
              "      <td>1.0</td>\n",
              "      <td>0</td>\n",
              "    </tr>\n",
              "    <tr>\n",
              "      <th>4</th>\n",
              "      <td>0</td>\n",
              "      <td>46</td>\n",
              "      <td>3.0</td>\n",
              "      <td>1</td>\n",
              "      <td>23.0</td>\n",
              "      <td>0.0</td>\n",
              "      <td>0</td>\n",
              "      <td>0</td>\n",
              "      <td>0</td>\n",
              "      <td>285.0</td>\n",
              "      <td>130.0</td>\n",
              "      <td>84.0</td>\n",
              "      <td>23.10</td>\n",
              "      <td>85.0</td>\n",
              "      <td>85.0</td>\n",
              "      <td>40.0</td>\n",
              "      <td>2</td>\n",
              "      <td>4</td>\n",
              "      <td>2</td>\n",
              "      <td>1.0</td>\n",
              "      <td>0</td>\n",
              "      <td>394.0</td>\n",
              "      <td>0.0</td>\n",
              "      <td>83.5</td>\n",
              "      <td>40.0</td>\n",
              "      <td>4</td>\n",
              "      <td>2</td>\n",
              "      <td>2</td>\n",
              "      <td>1.0</td>\n",
              "      <td>0</td>\n",
              "      <td>8.136133</td>\n",
              "      <td>11.369730</td>\n",
              "      <td>44.637853</td>\n",
              "      <td>27.760985</td>\n",
              "      <td>69</td>\n",
              "      <td>70.0</td>\n",
              "      <td>464.0</td>\n",
              "      <td>394.0</td>\n",
              "      <td>0.305326</td>\n",
              "      <td>1.358624</td>\n",
              "      <td>0.831521</td>\n",
              "      <td>0.0</td>\n",
              "      <td>44.0</td>\n",
              "      <td>2</td>\n",
              "      <td>2</td>\n",
              "      <td>2</td>\n",
              "      <td>0</td>\n",
              "      <td>0.0</td>\n",
              "      <td>2</td>\n",
              "      <td>4</td>\n",
              "      <td>2</td>\n",
              "      <td>0</td>\n",
              "      <td>1.0</td>\n",
              "      <td>0</td>\n",
              "    </tr>\n",
              "  </tbody>\n",
              "</table>\n",
              "</div>"
            ],
            "text/plain": [
              "       male  ...  diabetes.MODE(df2.currentSmoker)\n",
              "index        ...                                  \n",
              "0         1  ...                                 0\n",
              "1         0  ...                                 0\n",
              "2         1  ...                                 0\n",
              "3         0  ...                                 0\n",
              "4         0  ...                                 0\n",
              "\n",
              "[5 rows x 54 columns]"
            ]
          },
          "metadata": {
            "tags": []
          },
          "execution_count": 99
        }
      ]
    },
    {
      "cell_type": "markdown",
      "metadata": {
        "id": "d4SaZL4sSCMv",
        "colab_type": "text"
      },
      "source": [
        "#### Detectar las características más relevantes utilizando modelos lineales penalizados con la norma L1"
      ]
    },
    {
      "cell_type": "code",
      "metadata": {
        "id": "xHv01-nhRSSp",
        "colab_type": "code",
        "outputId": "7e0abdc8-1c99-42c1-af6a-7cf71bfe5afa",
        "colab": {
          "base_uri": "https://localhost:8080/",
          "height": 34
        }
      },
      "source": [
        "features_positive = features_filtered.loc[:, features_filtered.ge(0).all()]\n",
        "\n",
        "features_positive.shape"
      ],
      "execution_count": 0,
      "outputs": [
        {
          "output_type": "execute_result",
          "data": {
            "text/plain": [
              "(3656, 53)"
            ]
          },
          "metadata": {
            "tags": []
          },
          "execution_count": 100
        }
      ]
    },
    {
      "cell_type": "code",
      "metadata": {
        "id": "mgvDq3XzS0te",
        "colab_type": "code",
        "outputId": "7e24b84c-d8cd-4d07-a186-9668f6163399",
        "colab": {
          "base_uri": "https://localhost:8080/",
          "height": 317
        }
      },
      "source": [
        "features_filtered.describe()"
      ],
      "execution_count": 0,
      "outputs": [
        {
          "output_type": "execute_result",
          "data": {
            "text/html": [
              "<div>\n",
              "<style scoped>\n",
              "    .dataframe tbody tr th:only-of-type {\n",
              "        vertical-align: middle;\n",
              "    }\n",
              "\n",
              "    .dataframe tbody tr th {\n",
              "        vertical-align: top;\n",
              "    }\n",
              "\n",
              "    .dataframe thead th {\n",
              "        text-align: right;\n",
              "    }\n",
              "</style>\n",
              "<table border=\"1\" class=\"dataframe\">\n",
              "  <thead>\n",
              "    <tr style=\"text-align: right;\">\n",
              "      <th></th>\n",
              "      <th>male</th>\n",
              "      <th>age</th>\n",
              "      <th>education</th>\n",
              "      <th>currentSmoker</th>\n",
              "      <th>cigsPerDay</th>\n",
              "      <th>BPMeds</th>\n",
              "      <th>prevalentStroke</th>\n",
              "      <th>prevalentHyp</th>\n",
              "      <th>diabetes</th>\n",
              "      <th>totChol</th>\n",
              "      <th>sysBP</th>\n",
              "      <th>diaBP</th>\n",
              "      <th>BMI</th>\n",
              "      <th>heartRate</th>\n",
              "      <th>glucose</th>\n",
              "      <th>currentSmoker.MIN(df2.glucose)</th>\n",
              "      <th>currentSmoker.NUM_UNIQUE(df2.male)</th>\n",
              "      <th>currentSmoker.NUM_UNIQUE(df2.education)</th>\n",
              "      <th>currentSmoker.NUM_UNIQUE(df2.diabetes)</th>\n",
              "      <th>currentSmoker.MODE(df2.education)</th>\n",
              "      <th>currentSmoker.MODE(df2.diabetes)</th>\n",
              "      <th>male.MAX(df2.glucose)</th>\n",
              "      <th>male.MIN(df2.cigsPerDay)</th>\n",
              "      <th>male.MIN(df2.sysBP)</th>\n",
              "      <th>male.MIN(df2.glucose)</th>\n",
              "      <th>male.NUM_UNIQUE(df2.education)</th>\n",
              "      <th>male.NUM_UNIQUE(df2.currentSmoker)</th>\n",
              "      <th>male.NUM_UNIQUE(df2.diabetes)</th>\n",
              "      <th>male.MODE(df2.education)</th>\n",
              "      <th>male.MODE(df2.diabetes)</th>\n",
              "      <th>education.STD(df2.age)</th>\n",
              "      <th>education.STD(df2.cigsPerDay)</th>\n",
              "      <th>education.STD(df2.totChol)</th>\n",
              "      <th>education.STD(df2.glucose)</th>\n",
              "      <th>education.MAX(df2.age)</th>\n",
              "      <th>education.MAX(df2.cigsPerDay)</th>\n",
              "      <th>education.MAX(df2.totChol)</th>\n",
              "      <th>education.MAX(df2.glucose)</th>\n",
              "      <th>education.SKEW(df2.age)</th>\n",
              "      <th>education.SKEW(df2.cigsPerDay)</th>\n",
              "      <th>education.SKEW(df2.heartRate)</th>\n",
              "      <th>education.MIN(df2.cigsPerDay)</th>\n",
              "      <th>education.MIN(df2.glucose)</th>\n",
              "      <th>education.NUM_UNIQUE(df2.male)</th>\n",
              "      <th>education.NUM_UNIQUE(df2.currentSmoker)</th>\n",
              "      <th>education.NUM_UNIQUE(df2.diabetes)</th>\n",
              "      <th>education.MODE(df2.diabetes)</th>\n",
              "      <th>diabetes.MIN(df2.cigsPerDay)</th>\n",
              "      <th>diabetes.NUM_UNIQUE(df2.male)</th>\n",
              "      <th>diabetes.NUM_UNIQUE(df2.education)</th>\n",
              "      <th>diabetes.NUM_UNIQUE(df2.currentSmoker)</th>\n",
              "      <th>diabetes.MODE(df2.male)</th>\n",
              "      <th>diabetes.MODE(df2.education)</th>\n",
              "      <th>diabetes.MODE(df2.currentSmoker)</th>\n",
              "    </tr>\n",
              "  </thead>\n",
              "  <tbody>\n",
              "    <tr>\n",
              "      <th>count</th>\n",
              "      <td>3656.000000</td>\n",
              "      <td>3656.000000</td>\n",
              "      <td>3656.000000</td>\n",
              "      <td>3656.000000</td>\n",
              "      <td>3656.000000</td>\n",
              "      <td>3656.000000</td>\n",
              "      <td>3656.000000</td>\n",
              "      <td>3656.000000</td>\n",
              "      <td>3656.000000</td>\n",
              "      <td>3656.000000</td>\n",
              "      <td>3656.000000</td>\n",
              "      <td>3656.000000</td>\n",
              "      <td>3656.000000</td>\n",
              "      <td>3656.000000</td>\n",
              "      <td>3656.000000</td>\n",
              "      <td>3656.0</td>\n",
              "      <td>3656.0</td>\n",
              "      <td>3656.0</td>\n",
              "      <td>3656.0</td>\n",
              "      <td>3656.0</td>\n",
              "      <td>3656.0</td>\n",
              "      <td>3656.0</td>\n",
              "      <td>3656.0</td>\n",
              "      <td>3656.0</td>\n",
              "      <td>3656.0</td>\n",
              "      <td>3656.0</td>\n",
              "      <td>3656.0</td>\n",
              "      <td>3656.0</td>\n",
              "      <td>3656.0</td>\n",
              "      <td>3656.0</td>\n",
              "      <td>3656.000000</td>\n",
              "      <td>3656.000000</td>\n",
              "      <td>3656.000000</td>\n",
              "      <td>3656.000000</td>\n",
              "      <td>3656.000000</td>\n",
              "      <td>3656.000000</td>\n",
              "      <td>3656.000000</td>\n",
              "      <td>3656.000000</td>\n",
              "      <td>3656.000000</td>\n",
              "      <td>3656.000000</td>\n",
              "      <td>3656.000000</td>\n",
              "      <td>3656.0</td>\n",
              "      <td>3656.000000</td>\n",
              "      <td>3656.0</td>\n",
              "      <td>3656.0</td>\n",
              "      <td>3656.0</td>\n",
              "      <td>3656.0</td>\n",
              "      <td>3656.0</td>\n",
              "      <td>3656.0</td>\n",
              "      <td>3656.0</td>\n",
              "      <td>3656.0</td>\n",
              "      <td>3656.0</td>\n",
              "      <td>3656.0</td>\n",
              "      <td>3656.0</td>\n",
              "    </tr>\n",
              "    <tr>\n",
              "      <th>mean</th>\n",
              "      <td>0.443654</td>\n",
              "      <td>49.557440</td>\n",
              "      <td>1.979759</td>\n",
              "      <td>0.489059</td>\n",
              "      <td>9.022155</td>\n",
              "      <td>0.030361</td>\n",
              "      <td>0.005744</td>\n",
              "      <td>0.311543</td>\n",
              "      <td>0.027079</td>\n",
              "      <td>236.873085</td>\n",
              "      <td>132.368025</td>\n",
              "      <td>82.912062</td>\n",
              "      <td>25.784185</td>\n",
              "      <td>75.730580</td>\n",
              "      <td>81.856127</td>\n",
              "      <td>40.0</td>\n",
              "      <td>2.0</td>\n",
              "      <td>4.0</td>\n",
              "      <td>2.0</td>\n",
              "      <td>1.0</td>\n",
              "      <td>0.0</td>\n",
              "      <td>394.0</td>\n",
              "      <td>0.0</td>\n",
              "      <td>83.5</td>\n",
              "      <td>40.0</td>\n",
              "      <td>4.0</td>\n",
              "      <td>2.0</td>\n",
              "      <td>2.0</td>\n",
              "      <td>1.0</td>\n",
              "      <td>0.0</td>\n",
              "      <td>8.317779</td>\n",
              "      <td>11.903429</td>\n",
              "      <td>44.047792</td>\n",
              "      <td>23.659928</td>\n",
              "      <td>69.069748</td>\n",
              "      <td>61.657549</td>\n",
              "      <td>482.112144</td>\n",
              "      <td>366.248085</td>\n",
              "      <td>0.245172</td>\n",
              "      <td>1.233516</td>\n",
              "      <td>0.667481</td>\n",
              "      <td>0.0</td>\n",
              "      <td>41.010120</td>\n",
              "      <td>2.0</td>\n",
              "      <td>2.0</td>\n",
              "      <td>2.0</td>\n",
              "      <td>0.0</td>\n",
              "      <td>0.0</td>\n",
              "      <td>2.0</td>\n",
              "      <td>4.0</td>\n",
              "      <td>2.0</td>\n",
              "      <td>0.0</td>\n",
              "      <td>1.0</td>\n",
              "      <td>0.0</td>\n",
              "    </tr>\n",
              "    <tr>\n",
              "      <th>std</th>\n",
              "      <td>0.496883</td>\n",
              "      <td>8.561133</td>\n",
              "      <td>1.022657</td>\n",
              "      <td>0.499949</td>\n",
              "      <td>11.918869</td>\n",
              "      <td>0.171602</td>\n",
              "      <td>0.075581</td>\n",
              "      <td>0.463187</td>\n",
              "      <td>0.162335</td>\n",
              "      <td>44.096223</td>\n",
              "      <td>22.092444</td>\n",
              "      <td>11.974825</td>\n",
              "      <td>4.065913</td>\n",
              "      <td>11.982952</td>\n",
              "      <td>23.910128</td>\n",
              "      <td>0.0</td>\n",
              "      <td>0.0</td>\n",
              "      <td>0.0</td>\n",
              "      <td>0.0</td>\n",
              "      <td>0.0</td>\n",
              "      <td>0.0</td>\n",
              "      <td>0.0</td>\n",
              "      <td>0.0</td>\n",
              "      <td>0.0</td>\n",
              "      <td>0.0</td>\n",
              "      <td>0.0</td>\n",
              "      <td>0.0</td>\n",
              "      <td>0.0</td>\n",
              "      <td>0.0</td>\n",
              "      <td>0.0</td>\n",
              "      <td>0.098002</td>\n",
              "      <td>0.295501</td>\n",
              "      <td>1.958887</td>\n",
              "      <td>3.365129</td>\n",
              "      <td>0.871374</td>\n",
              "      <td>3.719114</td>\n",
              "      <td>80.306564</td>\n",
              "      <td>66.399096</td>\n",
              "      <td>0.258049</td>\n",
              "      <td>0.136897</td>\n",
              "      <td>0.170001</td>\n",
              "      <td>0.0</td>\n",
              "      <td>1.635166</td>\n",
              "      <td>0.0</td>\n",
              "      <td>0.0</td>\n",
              "      <td>0.0</td>\n",
              "      <td>0.0</td>\n",
              "      <td>0.0</td>\n",
              "      <td>0.0</td>\n",
              "      <td>0.0</td>\n",
              "      <td>0.0</td>\n",
              "      <td>0.0</td>\n",
              "      <td>0.0</td>\n",
              "      <td>0.0</td>\n",
              "    </tr>\n",
              "    <tr>\n",
              "      <th>min</th>\n",
              "      <td>0.000000</td>\n",
              "      <td>32.000000</td>\n",
              "      <td>1.000000</td>\n",
              "      <td>0.000000</td>\n",
              "      <td>0.000000</td>\n",
              "      <td>0.000000</td>\n",
              "      <td>0.000000</td>\n",
              "      <td>0.000000</td>\n",
              "      <td>0.000000</td>\n",
              "      <td>113.000000</td>\n",
              "      <td>83.500000</td>\n",
              "      <td>48.000000</td>\n",
              "      <td>15.540000</td>\n",
              "      <td>44.000000</td>\n",
              "      <td>40.000000</td>\n",
              "      <td>40.0</td>\n",
              "      <td>2.0</td>\n",
              "      <td>4.0</td>\n",
              "      <td>2.0</td>\n",
              "      <td>1.0</td>\n",
              "      <td>0.0</td>\n",
              "      <td>394.0</td>\n",
              "      <td>0.0</td>\n",
              "      <td>83.5</td>\n",
              "      <td>40.0</td>\n",
              "      <td>4.0</td>\n",
              "      <td>2.0</td>\n",
              "      <td>2.0</td>\n",
              "      <td>1.0</td>\n",
              "      <td>0.0</td>\n",
              "      <td>8.136133</td>\n",
              "      <td>11.369730</td>\n",
              "      <td>40.351822</td>\n",
              "      <td>16.024154</td>\n",
              "      <td>67.000000</td>\n",
              "      <td>60.000000</td>\n",
              "      <td>382.000000</td>\n",
              "      <td>183.000000</td>\n",
              "      <td>-0.044619</td>\n",
              "      <td>1.046002</td>\n",
              "      <td>0.378180</td>\n",
              "      <td>0.0</td>\n",
              "      <td>40.000000</td>\n",
              "      <td>2.0</td>\n",
              "      <td>2.0</td>\n",
              "      <td>2.0</td>\n",
              "      <td>0.0</td>\n",
              "      <td>0.0</td>\n",
              "      <td>2.0</td>\n",
              "      <td>4.0</td>\n",
              "      <td>2.0</td>\n",
              "      <td>0.0</td>\n",
              "      <td>1.0</td>\n",
              "      <td>0.0</td>\n",
              "    </tr>\n",
              "    <tr>\n",
              "      <th>25%</th>\n",
              "      <td>0.000000</td>\n",
              "      <td>42.000000</td>\n",
              "      <td>1.000000</td>\n",
              "      <td>0.000000</td>\n",
              "      <td>0.000000</td>\n",
              "      <td>0.000000</td>\n",
              "      <td>0.000000</td>\n",
              "      <td>0.000000</td>\n",
              "      <td>0.000000</td>\n",
              "      <td>206.000000</td>\n",
              "      <td>117.000000</td>\n",
              "      <td>75.000000</td>\n",
              "      <td>23.080000</td>\n",
              "      <td>68.000000</td>\n",
              "      <td>71.000000</td>\n",
              "      <td>40.0</td>\n",
              "      <td>2.0</td>\n",
              "      <td>4.0</td>\n",
              "      <td>2.0</td>\n",
              "      <td>1.0</td>\n",
              "      <td>0.0</td>\n",
              "      <td>394.0</td>\n",
              "      <td>0.0</td>\n",
              "      <td>83.5</td>\n",
              "      <td>40.0</td>\n",
              "      <td>4.0</td>\n",
              "      <td>2.0</td>\n",
              "      <td>2.0</td>\n",
              "      <td>1.0</td>\n",
              "      <td>0.0</td>\n",
              "      <td>8.285730</td>\n",
              "      <td>11.817173</td>\n",
              "      <td>43.073275</td>\n",
              "      <td>22.116877</td>\n",
              "      <td>69.000000</td>\n",
              "      <td>60.000000</td>\n",
              "      <td>432.000000</td>\n",
              "      <td>386.000000</td>\n",
              "      <td>-0.044619</td>\n",
              "      <td>1.046002</td>\n",
              "      <td>0.507869</td>\n",
              "      <td>0.0</td>\n",
              "      <td>40.000000</td>\n",
              "      <td>2.0</td>\n",
              "      <td>2.0</td>\n",
              "      <td>2.0</td>\n",
              "      <td>0.0</td>\n",
              "      <td>0.0</td>\n",
              "      <td>2.0</td>\n",
              "      <td>4.0</td>\n",
              "      <td>2.0</td>\n",
              "      <td>0.0</td>\n",
              "      <td>1.0</td>\n",
              "      <td>0.0</td>\n",
              "    </tr>\n",
              "    <tr>\n",
              "      <th>50%</th>\n",
              "      <td>0.000000</td>\n",
              "      <td>49.000000</td>\n",
              "      <td>2.000000</td>\n",
              "      <td>0.000000</td>\n",
              "      <td>0.000000</td>\n",
              "      <td>0.000000</td>\n",
              "      <td>0.000000</td>\n",
              "      <td>0.000000</td>\n",
              "      <td>0.000000</td>\n",
              "      <td>234.000000</td>\n",
              "      <td>128.000000</td>\n",
              "      <td>82.000000</td>\n",
              "      <td>25.380000</td>\n",
              "      <td>75.000000</td>\n",
              "      <td>78.000000</td>\n",
              "      <td>40.0</td>\n",
              "      <td>2.0</td>\n",
              "      <td>4.0</td>\n",
              "      <td>2.0</td>\n",
              "      <td>1.0</td>\n",
              "      <td>0.0</td>\n",
              "      <td>394.0</td>\n",
              "      <td>0.0</td>\n",
              "      <td>83.5</td>\n",
              "      <td>40.0</td>\n",
              "      <td>4.0</td>\n",
              "      <td>2.0</td>\n",
              "      <td>2.0</td>\n",
              "      <td>1.0</td>\n",
              "      <td>0.0</td>\n",
              "      <td>8.296487</td>\n",
              "      <td>12.035009</td>\n",
              "      <td>43.073275</td>\n",
              "      <td>25.261233</td>\n",
              "      <td>69.000000</td>\n",
              "      <td>60.000000</td>\n",
              "      <td>432.000000</td>\n",
              "      <td>386.000000</td>\n",
              "      <td>0.305326</td>\n",
              "      <td>1.341062</td>\n",
              "      <td>0.797690</td>\n",
              "      <td>0.0</td>\n",
              "      <td>40.000000</td>\n",
              "      <td>2.0</td>\n",
              "      <td>2.0</td>\n",
              "      <td>2.0</td>\n",
              "      <td>0.0</td>\n",
              "      <td>0.0</td>\n",
              "      <td>2.0</td>\n",
              "      <td>4.0</td>\n",
              "      <td>2.0</td>\n",
              "      <td>0.0</td>\n",
              "      <td>1.0</td>\n",
              "      <td>0.0</td>\n",
              "    </tr>\n",
              "    <tr>\n",
              "      <th>75%</th>\n",
              "      <td>1.000000</td>\n",
              "      <td>56.000000</td>\n",
              "      <td>3.000000</td>\n",
              "      <td>1.000000</td>\n",
              "      <td>20.000000</td>\n",
              "      <td>0.000000</td>\n",
              "      <td>0.000000</td>\n",
              "      <td>1.000000</td>\n",
              "      <td>0.000000</td>\n",
              "      <td>263.250000</td>\n",
              "      <td>144.000000</td>\n",
              "      <td>90.000000</td>\n",
              "      <td>28.040000</td>\n",
              "      <td>82.000000</td>\n",
              "      <td>87.000000</td>\n",
              "      <td>40.0</td>\n",
              "      <td>2.0</td>\n",
              "      <td>4.0</td>\n",
              "      <td>2.0</td>\n",
              "      <td>1.0</td>\n",
              "      <td>0.0</td>\n",
              "      <td>394.0</td>\n",
              "      <td>0.0</td>\n",
              "      <td>83.5</td>\n",
              "      <td>40.0</td>\n",
              "      <td>4.0</td>\n",
              "      <td>2.0</td>\n",
              "      <td>2.0</td>\n",
              "      <td>1.0</td>\n",
              "      <td>0.0</td>\n",
              "      <td>8.414159</td>\n",
              "      <td>12.035009</td>\n",
              "      <td>46.493689</td>\n",
              "      <td>25.261233</td>\n",
              "      <td>70.000000</td>\n",
              "      <td>60.000000</td>\n",
              "      <td>600.000000</td>\n",
              "      <td>394.000000</td>\n",
              "      <td>0.546940</td>\n",
              "      <td>1.341062</td>\n",
              "      <td>0.797690</td>\n",
              "      <td>0.0</td>\n",
              "      <td>43.000000</td>\n",
              "      <td>2.0</td>\n",
              "      <td>2.0</td>\n",
              "      <td>2.0</td>\n",
              "      <td>0.0</td>\n",
              "      <td>0.0</td>\n",
              "      <td>2.0</td>\n",
              "      <td>4.0</td>\n",
              "      <td>2.0</td>\n",
              "      <td>0.0</td>\n",
              "      <td>1.0</td>\n",
              "      <td>0.0</td>\n",
              "    </tr>\n",
              "    <tr>\n",
              "      <th>max</th>\n",
              "      <td>1.000000</td>\n",
              "      <td>70.000000</td>\n",
              "      <td>4.000000</td>\n",
              "      <td>1.000000</td>\n",
              "      <td>70.000000</td>\n",
              "      <td>1.000000</td>\n",
              "      <td>1.000000</td>\n",
              "      <td>1.000000</td>\n",
              "      <td>1.000000</td>\n",
              "      <td>600.000000</td>\n",
              "      <td>295.000000</td>\n",
              "      <td>142.500000</td>\n",
              "      <td>56.800000</td>\n",
              "      <td>143.000000</td>\n",
              "      <td>394.000000</td>\n",
              "      <td>40.0</td>\n",
              "      <td>2.0</td>\n",
              "      <td>4.0</td>\n",
              "      <td>2.0</td>\n",
              "      <td>1.0</td>\n",
              "      <td>0.0</td>\n",
              "      <td>394.0</td>\n",
              "      <td>0.0</td>\n",
              "      <td>83.5</td>\n",
              "      <td>40.0</td>\n",
              "      <td>4.0</td>\n",
              "      <td>2.0</td>\n",
              "      <td>2.0</td>\n",
              "      <td>1.0</td>\n",
              "      <td>0.0</td>\n",
              "      <td>8.414159</td>\n",
              "      <td>12.417844</td>\n",
              "      <td>46.493689</td>\n",
              "      <td>27.760985</td>\n",
              "      <td>70.000000</td>\n",
              "      <td>70.000000</td>\n",
              "      <td>600.000000</td>\n",
              "      <td>394.000000</td>\n",
              "      <td>0.546940</td>\n",
              "      <td>1.358624</td>\n",
              "      <td>0.831521</td>\n",
              "      <td>0.0</td>\n",
              "      <td>44.000000</td>\n",
              "      <td>2.0</td>\n",
              "      <td>2.0</td>\n",
              "      <td>2.0</td>\n",
              "      <td>0.0</td>\n",
              "      <td>0.0</td>\n",
              "      <td>2.0</td>\n",
              "      <td>4.0</td>\n",
              "      <td>2.0</td>\n",
              "      <td>0.0</td>\n",
              "      <td>1.0</td>\n",
              "      <td>0.0</td>\n",
              "    </tr>\n",
              "  </tbody>\n",
              "</table>\n",
              "</div>"
            ],
            "text/plain": [
              "              male  ...  diabetes.MODE(df2.currentSmoker)\n",
              "count  3656.000000  ...                            3656.0\n",
              "mean      0.443654  ...                               0.0\n",
              "std       0.496883  ...                               0.0\n",
              "min       0.000000  ...                               0.0\n",
              "25%       0.000000  ...                               0.0\n",
              "50%       0.000000  ...                               0.0\n",
              "75%       1.000000  ...                               0.0\n",
              "max       1.000000  ...                               0.0\n",
              "\n",
              "[8 rows x 54 columns]"
            ]
          },
          "metadata": {
            "tags": []
          },
          "execution_count": 103
        }
      ]
    },
    {
      "cell_type": "code",
      "metadata": {
        "id": "9h8F7hlxSrN5",
        "colab_type": "code",
        "colab": {}
      },
      "source": [
        "y = df2['TenYearCHD'].values\n",
        "X = features_positive\n",
        "\n",
        "test_size = 0.2\n",
        "scaler = MinMaxScaler()\n",
        "\n",
        "scaled_X = scaler.fit_transform(X)\n",
        "\n",
        "df_scaled_X = pd.DataFrame(scaled_X)\n",
        "\n",
        "train_X, test_X, train_y, test_y = train_test_split(df_scaled_X,y, test_size = test_size, random_state=42, stratify=y)"
      ],
      "execution_count": 0,
      "outputs": []
    },
    {
      "cell_type": "code",
      "metadata": {
        "id": "Rc3N2mYPVrSK",
        "colab_type": "code",
        "outputId": "eb0401d8-57d8-4f5f-9540-2d840ac96aba",
        "colab": {
          "base_uri": "https://localhost:8080/",
          "height": 34
        }
      },
      "source": [
        "lsvc = LinearSVC(C=0.01, penalty=\"l1\", \n",
        "                 max_iter = 20000,\n",
        "                 dual=False).fit(train_X, train_y) \n",
        "model = SelectFromModel(lsvc, prefit=True)\n",
        "X_new = model.transform(train_X)\n",
        "X_selected_df = pd.DataFrame(X_new, columns=[train_X.columns[i] for i in range(len(train_X.columns)) if model.get_support()[i]])\n",
        "X_selected_df.shape"
      ],
      "execution_count": 0,
      "outputs": [
        {
          "output_type": "execute_result",
          "data": {
            "text/plain": [
              "(2924, 6)"
            ]
          },
          "metadata": {
            "tags": []
          },
          "execution_count": 165
        }
      ]
    },
    {
      "cell_type": "code",
      "metadata": {
        "id": "PwQ2jPGOeOmf",
        "colab_type": "code",
        "outputId": "5bc4bfa2-71c1-4f3f-fe69-14e96aead6bd",
        "colab": {
          "base_uri": "https://localhost:8080/",
          "height": 34
        }
      },
      "source": [
        "X_new_test = model.transform(test_X)\n",
        "X_selected_df_test = pd.DataFrame(X_new_test, columns=[test_X.columns[i] for i in range(len(test_X.columns)) if model.get_support()[i]])\n",
        "X_selected_df_test.shape"
      ],
      "execution_count": 0,
      "outputs": [
        {
          "output_type": "execute_result",
          "data": {
            "text/plain": [
              "(732, 6)"
            ]
          },
          "metadata": {
            "tags": []
          },
          "execution_count": 167
        }
      ]
    },
    {
      "cell_type": "code",
      "metadata": {
        "id": "Rxm6iyw8Y5Cg",
        "colab_type": "code",
        "outputId": "ce1a3af8-d06a-4037-e156-24f301ccd55f",
        "colab": {
          "base_uri": "https://localhost:8080/",
          "height": 51
        }
      },
      "source": [
        "print(train_X.shape)\n",
        "\n",
        "X_new.shape"
      ],
      "execution_count": 0,
      "outputs": [
        {
          "output_type": "stream",
          "text": [
            "(2924, 53)\n"
          ],
          "name": "stdout"
        },
        {
          "output_type": "execute_result",
          "data": {
            "text/plain": [
              "(2924, 6)"
            ]
          },
          "metadata": {
            "tags": []
          },
          "execution_count": 168
        }
      ]
    },
    {
      "cell_type": "code",
      "metadata": {
        "id": "6-buFyETZwYw",
        "colab_type": "code",
        "outputId": "c83daab4-c4c5-4fee-9744-6cdd1d55517a",
        "colab": {
          "base_uri": "https://localhost:8080/",
          "height": 204
        }
      },
      "source": [
        "X_selected_df.head()"
      ],
      "execution_count": 0,
      "outputs": [
        {
          "output_type": "execute_result",
          "data": {
            "text/html": [
              "<div>\n",
              "<style scoped>\n",
              "    .dataframe tbody tr th:only-of-type {\n",
              "        vertical-align: middle;\n",
              "    }\n",
              "\n",
              "    .dataframe tbody tr th {\n",
              "        vertical-align: top;\n",
              "    }\n",
              "\n",
              "    .dataframe thead th {\n",
              "        text-align: right;\n",
              "    }\n",
              "</style>\n",
              "<table border=\"1\" class=\"dataframe\">\n",
              "  <thead>\n",
              "    <tr style=\"text-align: right;\">\n",
              "      <th></th>\n",
              "      <th>0</th>\n",
              "      <th>1</th>\n",
              "      <th>2</th>\n",
              "      <th>7</th>\n",
              "      <th>32</th>\n",
              "      <th>36</th>\n",
              "    </tr>\n",
              "  </thead>\n",
              "  <tbody>\n",
              "    <tr>\n",
              "      <th>0</th>\n",
              "      <td>0.0</td>\n",
              "      <td>0.894737</td>\n",
              "      <td>0.333333</td>\n",
              "      <td>0.0</td>\n",
              "      <td>1.000000</td>\n",
              "      <td>1.000000</td>\n",
              "    </tr>\n",
              "    <tr>\n",
              "      <th>1</th>\n",
              "      <td>1.0</td>\n",
              "      <td>0.184211</td>\n",
              "      <td>1.000000</td>\n",
              "      <td>0.0</td>\n",
              "      <td>0.000000</td>\n",
              "      <td>0.000000</td>\n",
              "    </tr>\n",
              "    <tr>\n",
              "      <th>2</th>\n",
              "      <td>1.0</td>\n",
              "      <td>0.657895</td>\n",
              "      <td>0.666667</td>\n",
              "      <td>0.0</td>\n",
              "      <td>0.697838</td>\n",
              "      <td>0.376147</td>\n",
              "    </tr>\n",
              "    <tr>\n",
              "      <th>3</th>\n",
              "      <td>1.0</td>\n",
              "      <td>0.473684</td>\n",
              "      <td>0.000000</td>\n",
              "      <td>0.0</td>\n",
              "      <td>0.443099</td>\n",
              "      <td>0.229358</td>\n",
              "    </tr>\n",
              "    <tr>\n",
              "      <th>4</th>\n",
              "      <td>0.0</td>\n",
              "      <td>0.342105</td>\n",
              "      <td>0.333333</td>\n",
              "      <td>0.0</td>\n",
              "      <td>1.000000</td>\n",
              "      <td>1.000000</td>\n",
              "    </tr>\n",
              "  </tbody>\n",
              "</table>\n",
              "</div>"
            ],
            "text/plain": [
              "    0         1         2    7         32        36\n",
              "0  0.0  0.894737  0.333333  0.0  1.000000  1.000000\n",
              "1  1.0  0.184211  1.000000  0.0  0.000000  0.000000\n",
              "2  1.0  0.657895  0.666667  0.0  0.697838  0.376147\n",
              "3  1.0  0.473684  0.000000  0.0  0.443099  0.229358\n",
              "4  0.0  0.342105  0.333333  0.0  1.000000  1.000000"
            ]
          },
          "metadata": {
            "tags": []
          },
          "execution_count": 170
        }
      ]
    },
    {
      "cell_type": "code",
      "metadata": {
        "id": "RFrDF3jxbQKM",
        "colab_type": "code",
        "colab": {}
      },
      "source": [
        "X_o = df2.drop('TenYearCHD', 1)\n",
        "\n",
        "#scaler = StandardScaler()\n",
        "scaler = MinMaxScaler()\n",
        "scaled = scaler.fit_transform(X_o)\n",
        "\n",
        "train_X_o, test_X_o, train_y_o, test_y_o = train_test_split(scaled,y, test_size = test_size, random_state=42, stratify=y)"
      ],
      "execution_count": 0,
      "outputs": []
    },
    {
      "cell_type": "markdown",
      "metadata": {
        "id": "kMfNof_omMEc",
        "colab_type": "text"
      },
      "source": [
        "#### Modelos con variables originales"
      ]
    },
    {
      "cell_type": "code",
      "metadata": {
        "id": "35-Rdgdyad9J",
        "colab_type": "code",
        "outputId": "ddbdcdad-781f-4076-9c55-fb63bf861004",
        "colab": {
          "base_uri": "https://localhost:8080/",
          "height": 170
        }
      },
      "source": [
        "# Entrenamiento de Random Forest con variables originales\n",
        "random_forest_o = RandomForestClassifier(n_estimators=1000,oob_score=True)\n",
        "random_forest_o.fit(train_X_o, train_y)\n",
        "\n",
        "y_pred_train_o = random_forest_o.predict(test_X_o)\n",
        "\n",
        "print(classification_report(test_y, y_pred_train_o))"
      ],
      "execution_count": 0,
      "outputs": [
        {
          "output_type": "stream",
          "text": [
            "              precision    recall  f1-score   support\n",
            "\n",
            "           0       0.86      0.99      0.92       620\n",
            "           1       0.53      0.08      0.14       112\n",
            "\n",
            "    accuracy                           0.85       732\n",
            "   macro avg       0.69      0.53      0.53       732\n",
            "weighted avg       0.81      0.85      0.80       732\n",
            "\n"
          ],
          "name": "stdout"
        }
      ]
    },
    {
      "cell_type": "code",
      "metadata": {
        "id": "VAX_cbnYllkL",
        "colab_type": "code",
        "outputId": "85d937a0-41b3-4b8c-d12d-0430499697c7",
        "colab": {
          "base_uri": "https://localhost:8080/",
          "height": 170
        }
      },
      "source": [
        "# Entrenamiento de Regresion Logistica con variables originales\n",
        "logreg_o = LogisticRegression()\n",
        "logreg_o.fit(train_X_o, train_y)\n",
        "y_pred_train_o = logreg_o.predict(test_X_o)\n",
        "print(classification_report(test_y, y_pred_train_o))"
      ],
      "execution_count": 0,
      "outputs": [
        {
          "output_type": "stream",
          "text": [
            "              precision    recall  f1-score   support\n",
            "\n",
            "           0       0.86      0.99      0.92       620\n",
            "           1       0.76      0.12      0.20       112\n",
            "\n",
            "    accuracy                           0.86       732\n",
            "   macro avg       0.81      0.55      0.56       732\n",
            "weighted avg       0.85      0.86      0.81       732\n",
            "\n"
          ],
          "name": "stdout"
        }
      ]
    },
    {
      "cell_type": "markdown",
      "metadata": {
        "id": "JvIkhUwWmSYz",
        "colab_type": "text"
      },
      "source": [
        "#### Modelos con variables nuevas"
      ]
    },
    {
      "cell_type": "code",
      "metadata": {
        "id": "FWzfYl3Bc2sT",
        "colab_type": "code",
        "outputId": "285bb5e8-9d3c-4f10-d77a-f29ec652471b",
        "colab": {
          "base_uri": "https://localhost:8080/",
          "height": 170
        }
      },
      "source": [
        "# Entrenamiento de Random Forest con nuevas variables\n",
        "random_forest_n = RandomForestClassifier(n_estimators=2000,oob_score=True)\n",
        "random_forest_n.fit(X_selected_df.values, train_y)\n",
        "\n",
        "y_pred_train_n = random_forest_n.predict(X_selected_df_test.values)\n",
        "\n",
        "print(classification_report(test_y, y_pred_train_n))"
      ],
      "execution_count": 0,
      "outputs": [
        {
          "output_type": "stream",
          "text": [
            "              precision    recall  f1-score   support\n",
            "\n",
            "           0       0.86      0.98      0.91       620\n",
            "           1       0.44      0.11      0.17       112\n",
            "\n",
            "    accuracy                           0.84       732\n",
            "   macro avg       0.65      0.54      0.54       732\n",
            "weighted avg       0.79      0.84      0.80       732\n",
            "\n"
          ],
          "name": "stdout"
        }
      ]
    },
    {
      "cell_type": "code",
      "metadata": {
        "id": "zIMSxR2ukiJ7",
        "colab_type": "code",
        "outputId": "0916388b-9edb-4e6e-e83a-70502f7d8374",
        "colab": {
          "base_uri": "https://localhost:8080/",
          "height": 170
        }
      },
      "source": [
        "# Entrenamiento de Regresion Logistica con nuevas variables\n",
        "logreg_n = LogisticRegression()\n",
        "logreg_n.fit(X_selected_df.values, train_y)\n",
        "y_pred_train_n = logreg_n.predict(X_selected_df_test.values)\n",
        "print(classification_report(test_y, y_pred_train_n))"
      ],
      "execution_count": 0,
      "outputs": [
        {
          "output_type": "stream",
          "text": [
            "              precision    recall  f1-score   support\n",
            "\n",
            "           0       0.85      1.00      0.92       620\n",
            "           1       0.50      0.01      0.02       112\n",
            "\n",
            "    accuracy                           0.85       732\n",
            "   macro avg       0.67      0.50      0.47       732\n",
            "weighted avg       0.79      0.85      0.78       732\n",
            "\n"
          ],
          "name": "stdout"
        }
      ]
    },
    {
      "cell_type": "markdown",
      "metadata": {
        "id": "6AGI9zpXSCuN",
        "colab_type": "text"
      },
      "source": [
        "# Ingenieria de caracteristicas de manera manual"
      ]
    },
    {
      "cell_type": "code",
      "metadata": {
        "id": "gqGmaYQhZjvI",
        "colab_type": "code",
        "colab": {}
      },
      "source": [
        ""
      ],
      "execution_count": 0,
      "outputs": []
    },
    {
      "cell_type": "code",
      "metadata": {
        "id": "PbYs3OduZjye",
        "colab_type": "code",
        "colab": {}
      },
      "source": [
        ""
      ],
      "execution_count": 0,
      "outputs": []
    },
    {
      "cell_type": "markdown",
      "metadata": {
        "id": "G9-9vzQgmtP7",
        "colab_type": "text"
      },
      "source": [
        "**Tareas**\n",
        "* cambiar la profundiad del feature tool  \n",
        "* estudiar clasification report  \n",
        "* agregar todas las entidades de transformacion  \n",
        "* probar con diferentes escaladores  \n",
        "* probar diferentes escaladores y en difrentes momentos del modelo  \n",
        "* probar un nuevo umbral de la correlacion\n"
      ]
    },
    {
      "cell_type": "markdown",
      "metadata": {
        "id": "777VGj7oaE7V",
        "colab_type": "text"
      },
      "source": [
        "## Fuentes\n",
        "\n",
        "\n",
        "https://www.kaggle.com/willkoehrsen/introduction-to-manual-feature-engineering\n",
        "\n",
        "https://www.kaggle.com/liananapalkova/automated-feature-engineering-for-titanic-dataset"
      ]
    }
  ]
}