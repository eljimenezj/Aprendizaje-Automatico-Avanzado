{
  "nbformat": 4,
  "nbformat_minor": 0,
  "metadata": {
    "colab": {
      "name": "Aprendizaje_Supervisado.ipynb",
      "provenance": [],
      "collapsed_sections": [],
      "include_colab_link": true
    },
    "kernelspec": {
      "name": "python3",
      "display_name": "Python 3"
    }
  },
  "cells": [
    {
      "cell_type": "markdown",
      "metadata": {
        "id": "view-in-github",
        "colab_type": "text"
      },
      "source": [
        "<a href=\"https://colab.research.google.com/github/eljimenezj/CM0891-Aprendizaje-Automatico-/blob/master/Aprendizaje_Supervisado.ipynb\" target=\"_parent\"><img src=\"https://colab.research.google.com/assets/colab-badge.svg\" alt=\"Open In Colab\"/></a>"
      ]
    },
    {
      "cell_type": "markdown",
      "metadata": {
        "id": "YdCEaQ-vPFA-",
        "colab_type": "text"
      },
      "source": [
        "# Aprendizaje Supervisado en Python\n",
        "\n",
        "Este libro contiene un estudio de **Aprendizaje Supervisado** utilizando Python. Esto hace parte del curso de Aprendizaje Automático de la Maestría de Ciencia de Datos.\n",
        "\n",
        "Los integrantes de este trabajo:\n",
        "\n",
        "* Santiago Echeverri Calderon\n",
        "* Edgar Leandro Jimenez Jaimes"
      ]
    },
    {
      "cell_type": "markdown",
      "metadata": {
        "id": "VQnPFmEGmgPT",
        "colab_type": "text"
      },
      "source": [
        "Este libro se encuentra organizado de la siguiente manera:\n",
        "\n",
        "1.   Lectura de los datos y exploración inicial\n",
        "2.   \n",
        "3.   \n",
        "4.   \n",
        "\n",
        "\n",
        "\n",
        "\n",
        "\n"
      ]
    },
    {
      "cell_type": "markdown",
      "metadata": {
        "id": "rvdHnuMgDEEK",
        "colab_type": "text"
      },
      "source": [
        "Vamos a instalar las librerias necesarias para la ejecución de este libro"
      ]
    },
    {
      "cell_type": "code",
      "metadata": {
        "id": "ShZqFPQ8O5fA",
        "colab_type": "code",
        "colab": {}
      },
      "source": [
        "#!pip install featuretools\n",
        "#! pip install category_encoders"
      ],
      "execution_count": 0,
      "outputs": []
    },
    {
      "cell_type": "markdown",
      "metadata": {
        "id": "I6eiy7x2PgpO",
        "colab_type": "text"
      },
      "source": [
        "Realizamos la importación de las librerias a utilizar"
      ]
    },
    {
      "cell_type": "code",
      "metadata": {
        "id": "YHzYhJtSP5jW",
        "colab_type": "code",
        "colab": {}
      },
      "source": [
        "import pandas as pd\n",
        "import numpy as np\n",
        "\n",
        "from sklearn.metrics import classification_report, confusion_matrix\n",
        "\n",
        "from sklearn.model_selection import train_test_split,cross_validate\n",
        "from sklearn.svm import LinearSVC\n",
        "from sklearn.feature_selection import SelectFromModel\n",
        "\n",
        "from sklearn.ensemble import RandomForestClassifier\n",
        "\n",
        "from sklearn.linear_model import LogisticRegression\n",
        "\n",
        "\n",
        "\n",
        "from sklearn.metrics import roc_auc_score\n",
        "\n",
        "from sklearn.model_selection import cross_val_score\n",
        "\n",
        "\n",
        "import category_encoders as ce\n",
        "from sklearn.tree import DecisionTreeClassifier\n",
        "#import graphviz\n",
        "#from sklearn.tree import export_graphviz\n",
        "\n",
        "from sklearn.metrics import accuracy_score\n",
        "from sklearn.ensemble import RandomForestClassifier\n",
        "from sklearn.model_selection import RandomizedSearchCV\n",
        "\n",
        "import seaborn as sns\n",
        "import matplotlib.pyplot as plt\n",
        "\n",
        "import warnings\n",
        "warnings.filterwarnings('ignore')\n"
      ],
      "execution_count": 0,
      "outputs": []
    },
    {
      "cell_type": "markdown",
      "metadata": {
        "id": "PVO6gUARDMJX",
        "colab_type": "text"
      },
      "source": [
        "Realizamos la carga del data set a utilizar:\n",
        "\n",
        "El conjunto de datos a utilizar es  ...................\n",
        "\n"
      ]
    },
    {
      "cell_type": "code",
      "metadata": {
        "id": "hssvQaVqPap4",
        "colab_type": "code",
        "outputId": "a8267b48-3515-421c-fcd9-fa1721faaaf6",
        "colab": {
          "base_uri": "https://localhost:8080/",
          "height": 34
        }
      },
      "source": [
        "from google.colab import drive\n",
        "drive.mount('/content/drive')"
      ],
      "execution_count": 3,
      "outputs": [
        {
          "output_type": "stream",
          "text": [
            "Drive already mounted at /content/drive; to attempt to forcibly remount, call drive.mount(\"/content/drive\", force_remount=True).\n"
          ],
          "name": "stdout"
        }
      ]
    },
    {
      "cell_type": "code",
      "metadata": {
        "id": "lZk1srHoDTg4",
        "colab_type": "code",
        "colab": {}
      },
      "source": [
        "df = pd.read_csv('/content/drive/My Drive/CM0891-Aprendizaje-Automatico/Datasets/mushrooms.csv')"
      ],
      "execution_count": 0,
      "outputs": []
    },
    {
      "cell_type": "markdown",
      "metadata": {
        "id": "K8cw2NiAlvrF",
        "colab_type": "text"
      },
      "source": [
        "# Exploracion inicial del conjunto de datos"
      ]
    },
    {
      "cell_type": "markdown",
      "metadata": {
        "id": "iaAiKnbxQTTO",
        "colab_type": "text"
      },
      "source": [
        "Realizamos una pequeña revision de los datos que acabamos de importar"
      ]
    },
    {
      "cell_type": "code",
      "metadata": {
        "id": "_EBDmx39eMh_",
        "colab_type": "code",
        "outputId": "42537c8d-bfbf-4ad9-97b6-f4022691f83e",
        "colab": {
          "base_uri": "https://localhost:8080/",
          "height": 267
        }
      },
      "source": [
        "df.head(5)                # Imprimimos los primeros 5 registros del dataset"
      ],
      "execution_count": 5,
      "outputs": [
        {
          "output_type": "execute_result",
          "data": {
            "text/html": [
              "<div>\n",
              "<style scoped>\n",
              "    .dataframe tbody tr th:only-of-type {\n",
              "        vertical-align: middle;\n",
              "    }\n",
              "\n",
              "    .dataframe tbody tr th {\n",
              "        vertical-align: top;\n",
              "    }\n",
              "\n",
              "    .dataframe thead th {\n",
              "        text-align: right;\n",
              "    }\n",
              "</style>\n",
              "<table border=\"1\" class=\"dataframe\">\n",
              "  <thead>\n",
              "    <tr style=\"text-align: right;\">\n",
              "      <th></th>\n",
              "      <th>class</th>\n",
              "      <th>cap-shape</th>\n",
              "      <th>cap-surface</th>\n",
              "      <th>cap-color</th>\n",
              "      <th>bruises</th>\n",
              "      <th>odor</th>\n",
              "      <th>gill-attachment</th>\n",
              "      <th>gill-spacing</th>\n",
              "      <th>gill-size</th>\n",
              "      <th>gill-color</th>\n",
              "      <th>stalk-shape</th>\n",
              "      <th>stalk-root</th>\n",
              "      <th>stalk-surface-above-ring</th>\n",
              "      <th>stalk-surface-below-ring</th>\n",
              "      <th>stalk-color-above-ring</th>\n",
              "      <th>stalk-color-below-ring</th>\n",
              "      <th>veil-type</th>\n",
              "      <th>veil-color</th>\n",
              "      <th>ring-number</th>\n",
              "      <th>ring-type</th>\n",
              "      <th>spore-print-color</th>\n",
              "      <th>population</th>\n",
              "      <th>habitat</th>\n",
              "    </tr>\n",
              "  </thead>\n",
              "  <tbody>\n",
              "    <tr>\n",
              "      <th>0</th>\n",
              "      <td>p</td>\n",
              "      <td>x</td>\n",
              "      <td>s</td>\n",
              "      <td>n</td>\n",
              "      <td>t</td>\n",
              "      <td>p</td>\n",
              "      <td>f</td>\n",
              "      <td>c</td>\n",
              "      <td>n</td>\n",
              "      <td>k</td>\n",
              "      <td>e</td>\n",
              "      <td>e</td>\n",
              "      <td>s</td>\n",
              "      <td>s</td>\n",
              "      <td>w</td>\n",
              "      <td>w</td>\n",
              "      <td>p</td>\n",
              "      <td>w</td>\n",
              "      <td>o</td>\n",
              "      <td>p</td>\n",
              "      <td>k</td>\n",
              "      <td>s</td>\n",
              "      <td>u</td>\n",
              "    </tr>\n",
              "    <tr>\n",
              "      <th>1</th>\n",
              "      <td>e</td>\n",
              "      <td>x</td>\n",
              "      <td>s</td>\n",
              "      <td>y</td>\n",
              "      <td>t</td>\n",
              "      <td>a</td>\n",
              "      <td>f</td>\n",
              "      <td>c</td>\n",
              "      <td>b</td>\n",
              "      <td>k</td>\n",
              "      <td>e</td>\n",
              "      <td>c</td>\n",
              "      <td>s</td>\n",
              "      <td>s</td>\n",
              "      <td>w</td>\n",
              "      <td>w</td>\n",
              "      <td>p</td>\n",
              "      <td>w</td>\n",
              "      <td>o</td>\n",
              "      <td>p</td>\n",
              "      <td>n</td>\n",
              "      <td>n</td>\n",
              "      <td>g</td>\n",
              "    </tr>\n",
              "    <tr>\n",
              "      <th>2</th>\n",
              "      <td>e</td>\n",
              "      <td>b</td>\n",
              "      <td>s</td>\n",
              "      <td>w</td>\n",
              "      <td>t</td>\n",
              "      <td>l</td>\n",
              "      <td>f</td>\n",
              "      <td>c</td>\n",
              "      <td>b</td>\n",
              "      <td>n</td>\n",
              "      <td>e</td>\n",
              "      <td>c</td>\n",
              "      <td>s</td>\n",
              "      <td>s</td>\n",
              "      <td>w</td>\n",
              "      <td>w</td>\n",
              "      <td>p</td>\n",
              "      <td>w</td>\n",
              "      <td>o</td>\n",
              "      <td>p</td>\n",
              "      <td>n</td>\n",
              "      <td>n</td>\n",
              "      <td>m</td>\n",
              "    </tr>\n",
              "    <tr>\n",
              "      <th>3</th>\n",
              "      <td>p</td>\n",
              "      <td>x</td>\n",
              "      <td>y</td>\n",
              "      <td>w</td>\n",
              "      <td>t</td>\n",
              "      <td>p</td>\n",
              "      <td>f</td>\n",
              "      <td>c</td>\n",
              "      <td>n</td>\n",
              "      <td>n</td>\n",
              "      <td>e</td>\n",
              "      <td>e</td>\n",
              "      <td>s</td>\n",
              "      <td>s</td>\n",
              "      <td>w</td>\n",
              "      <td>w</td>\n",
              "      <td>p</td>\n",
              "      <td>w</td>\n",
              "      <td>o</td>\n",
              "      <td>p</td>\n",
              "      <td>k</td>\n",
              "      <td>s</td>\n",
              "      <td>u</td>\n",
              "    </tr>\n",
              "    <tr>\n",
              "      <th>4</th>\n",
              "      <td>e</td>\n",
              "      <td>x</td>\n",
              "      <td>s</td>\n",
              "      <td>g</td>\n",
              "      <td>f</td>\n",
              "      <td>n</td>\n",
              "      <td>f</td>\n",
              "      <td>w</td>\n",
              "      <td>b</td>\n",
              "      <td>k</td>\n",
              "      <td>t</td>\n",
              "      <td>e</td>\n",
              "      <td>s</td>\n",
              "      <td>s</td>\n",
              "      <td>w</td>\n",
              "      <td>w</td>\n",
              "      <td>p</td>\n",
              "      <td>w</td>\n",
              "      <td>o</td>\n",
              "      <td>e</td>\n",
              "      <td>n</td>\n",
              "      <td>a</td>\n",
              "      <td>g</td>\n",
              "    </tr>\n",
              "  </tbody>\n",
              "</table>\n",
              "</div>"
            ],
            "text/plain": [
              "  class cap-shape cap-surface  ... spore-print-color population habitat\n",
              "0     p         x           s  ...                 k          s       u\n",
              "1     e         x           s  ...                 n          n       g\n",
              "2     e         b           s  ...                 n          n       m\n",
              "3     p         x           y  ...                 k          s       u\n",
              "4     e         x           s  ...                 n          a       g\n",
              "\n",
              "[5 rows x 23 columns]"
            ]
          },
          "metadata": {
            "tags": []
          },
          "execution_count": 5
        }
      ]
    },
    {
      "cell_type": "code",
      "metadata": {
        "id": "SoWtKxjgeP-V",
        "colab_type": "code",
        "outputId": "d71b3b6e-519e-4d31-d549-cdf7f3f38f3e",
        "colab": {
          "base_uri": "https://localhost:8080/",
          "height": 123
        }
      },
      "source": [
        "print(df.columns.values)  # Observamos el nombre de las columnas que contiene  el dataset"
      ],
      "execution_count": 6,
      "outputs": [
        {
          "output_type": "stream",
          "text": [
            "['class' 'cap-shape' 'cap-surface' 'cap-color' 'bruises' 'odor'\n",
            " 'gill-attachment' 'gill-spacing' 'gill-size' 'gill-color' 'stalk-shape'\n",
            " 'stalk-root' 'stalk-surface-above-ring' 'stalk-surface-below-ring'\n",
            " 'stalk-color-above-ring' 'stalk-color-below-ring' 'veil-type'\n",
            " 'veil-color' 'ring-number' 'ring-type' 'spore-print-color' 'population'\n",
            " 'habitat']\n"
          ],
          "name": "stdout"
        }
      ]
    },
    {
      "cell_type": "code",
      "metadata": {
        "id": "uCak5e51qkXQ",
        "colab_type": "code",
        "colab": {
          "base_uri": "https://localhost:8080/",
          "height": 237
        },
        "outputId": "7589cff3-22f5-43a9-d89d-2a793e9f8940"
      },
      "source": [
        "df.describe()"
      ],
      "execution_count": 7,
      "outputs": [
        {
          "output_type": "execute_result",
          "data": {
            "text/html": [
              "<div>\n",
              "<style scoped>\n",
              "    .dataframe tbody tr th:only-of-type {\n",
              "        vertical-align: middle;\n",
              "    }\n",
              "\n",
              "    .dataframe tbody tr th {\n",
              "        vertical-align: top;\n",
              "    }\n",
              "\n",
              "    .dataframe thead th {\n",
              "        text-align: right;\n",
              "    }\n",
              "</style>\n",
              "<table border=\"1\" class=\"dataframe\">\n",
              "  <thead>\n",
              "    <tr style=\"text-align: right;\">\n",
              "      <th></th>\n",
              "      <th>class</th>\n",
              "      <th>cap-shape</th>\n",
              "      <th>cap-surface</th>\n",
              "      <th>cap-color</th>\n",
              "      <th>bruises</th>\n",
              "      <th>odor</th>\n",
              "      <th>gill-attachment</th>\n",
              "      <th>gill-spacing</th>\n",
              "      <th>gill-size</th>\n",
              "      <th>gill-color</th>\n",
              "      <th>stalk-shape</th>\n",
              "      <th>stalk-root</th>\n",
              "      <th>stalk-surface-above-ring</th>\n",
              "      <th>stalk-surface-below-ring</th>\n",
              "      <th>stalk-color-above-ring</th>\n",
              "      <th>stalk-color-below-ring</th>\n",
              "      <th>veil-type</th>\n",
              "      <th>veil-color</th>\n",
              "      <th>ring-number</th>\n",
              "      <th>ring-type</th>\n",
              "      <th>spore-print-color</th>\n",
              "      <th>population</th>\n",
              "      <th>habitat</th>\n",
              "    </tr>\n",
              "  </thead>\n",
              "  <tbody>\n",
              "    <tr>\n",
              "      <th>count</th>\n",
              "      <td>8124</td>\n",
              "      <td>8124</td>\n",
              "      <td>8124</td>\n",
              "      <td>8124</td>\n",
              "      <td>8124</td>\n",
              "      <td>8124</td>\n",
              "      <td>8124</td>\n",
              "      <td>8124</td>\n",
              "      <td>8124</td>\n",
              "      <td>8124</td>\n",
              "      <td>8124</td>\n",
              "      <td>8124</td>\n",
              "      <td>8124</td>\n",
              "      <td>8124</td>\n",
              "      <td>8124</td>\n",
              "      <td>8124</td>\n",
              "      <td>8124</td>\n",
              "      <td>8124</td>\n",
              "      <td>8124</td>\n",
              "      <td>8124</td>\n",
              "      <td>8124</td>\n",
              "      <td>8124</td>\n",
              "      <td>8124</td>\n",
              "    </tr>\n",
              "    <tr>\n",
              "      <th>unique</th>\n",
              "      <td>2</td>\n",
              "      <td>6</td>\n",
              "      <td>4</td>\n",
              "      <td>10</td>\n",
              "      <td>2</td>\n",
              "      <td>9</td>\n",
              "      <td>2</td>\n",
              "      <td>2</td>\n",
              "      <td>2</td>\n",
              "      <td>12</td>\n",
              "      <td>2</td>\n",
              "      <td>5</td>\n",
              "      <td>4</td>\n",
              "      <td>4</td>\n",
              "      <td>9</td>\n",
              "      <td>9</td>\n",
              "      <td>1</td>\n",
              "      <td>4</td>\n",
              "      <td>3</td>\n",
              "      <td>5</td>\n",
              "      <td>9</td>\n",
              "      <td>6</td>\n",
              "      <td>7</td>\n",
              "    </tr>\n",
              "    <tr>\n",
              "      <th>top</th>\n",
              "      <td>e</td>\n",
              "      <td>x</td>\n",
              "      <td>y</td>\n",
              "      <td>n</td>\n",
              "      <td>f</td>\n",
              "      <td>n</td>\n",
              "      <td>f</td>\n",
              "      <td>c</td>\n",
              "      <td>b</td>\n",
              "      <td>b</td>\n",
              "      <td>t</td>\n",
              "      <td>b</td>\n",
              "      <td>s</td>\n",
              "      <td>s</td>\n",
              "      <td>w</td>\n",
              "      <td>w</td>\n",
              "      <td>p</td>\n",
              "      <td>w</td>\n",
              "      <td>o</td>\n",
              "      <td>p</td>\n",
              "      <td>w</td>\n",
              "      <td>v</td>\n",
              "      <td>d</td>\n",
              "    </tr>\n",
              "    <tr>\n",
              "      <th>freq</th>\n",
              "      <td>4208</td>\n",
              "      <td>3656</td>\n",
              "      <td>3244</td>\n",
              "      <td>2284</td>\n",
              "      <td>4748</td>\n",
              "      <td>3528</td>\n",
              "      <td>7914</td>\n",
              "      <td>6812</td>\n",
              "      <td>5612</td>\n",
              "      <td>1728</td>\n",
              "      <td>4608</td>\n",
              "      <td>3776</td>\n",
              "      <td>5176</td>\n",
              "      <td>4936</td>\n",
              "      <td>4464</td>\n",
              "      <td>4384</td>\n",
              "      <td>8124</td>\n",
              "      <td>7924</td>\n",
              "      <td>7488</td>\n",
              "      <td>3968</td>\n",
              "      <td>2388</td>\n",
              "      <td>4040</td>\n",
              "      <td>3148</td>\n",
              "    </tr>\n",
              "  </tbody>\n",
              "</table>\n",
              "</div>"
            ],
            "text/plain": [
              "       class cap-shape cap-surface  ... spore-print-color population habitat\n",
              "count   8124      8124        8124  ...              8124       8124    8124\n",
              "unique     2         6           4  ...                 9          6       7\n",
              "top        e         x           y  ...                 w          v       d\n",
              "freq    4208      3656        3244  ...              2388       4040    3148\n",
              "\n",
              "[4 rows x 23 columns]"
            ]
          },
          "metadata": {
            "tags": []
          },
          "execution_count": 7
        }
      ]
    },
    {
      "cell_type": "code",
      "metadata": {
        "id": "ym913NQWq1Nd",
        "colab_type": "code",
        "colab": {}
      },
      "source": [
        ""
      ],
      "execution_count": 0,
      "outputs": []
    },
    {
      "cell_type": "code",
      "metadata": {
        "id": "9pmjUTD7eSLr",
        "colab_type": "code",
        "outputId": "5df7dadd-fa12-489b-cd33-2fb99a4a6161",
        "colab": {
          "base_uri": "https://localhost:8080/",
          "height": 514
        }
      },
      "source": [
        "df.info()                 # Revisamos el tipo de datos por cada columna   "
      ],
      "execution_count": 8,
      "outputs": [
        {
          "output_type": "stream",
          "text": [
            "<class 'pandas.core.frame.DataFrame'>\n",
            "RangeIndex: 8124 entries, 0 to 8123\n",
            "Data columns (total 23 columns):\n",
            "class                       8124 non-null object\n",
            "cap-shape                   8124 non-null object\n",
            "cap-surface                 8124 non-null object\n",
            "cap-color                   8124 non-null object\n",
            "bruises                     8124 non-null object\n",
            "odor                        8124 non-null object\n",
            "gill-attachment             8124 non-null object\n",
            "gill-spacing                8124 non-null object\n",
            "gill-size                   8124 non-null object\n",
            "gill-color                  8124 non-null object\n",
            "stalk-shape                 8124 non-null object\n",
            "stalk-root                  8124 non-null object\n",
            "stalk-surface-above-ring    8124 non-null object\n",
            "stalk-surface-below-ring    8124 non-null object\n",
            "stalk-color-above-ring      8124 non-null object\n",
            "stalk-color-below-ring      8124 non-null object\n",
            "veil-type                   8124 non-null object\n",
            "veil-color                  8124 non-null object\n",
            "ring-number                 8124 non-null object\n",
            "ring-type                   8124 non-null object\n",
            "spore-print-color           8124 non-null object\n",
            "population                  8124 non-null object\n",
            "habitat                     8124 non-null object\n",
            "dtypes: object(23)\n",
            "memory usage: 1.4+ MB\n"
          ],
          "name": "stdout"
        }
      ]
    },
    {
      "cell_type": "code",
      "metadata": {
        "id": "cF7vgR9BqPAL",
        "colab_type": "code",
        "colab": {
          "base_uri": "https://localhost:8080/",
          "height": 443
        },
        "outputId": "a7fe8aa8-0d23-4699-e52f-df520e6cfbe2"
      },
      "source": [
        "df = df.replace ({'?': np.NaN}) \n",
        "print (df.isna (). sum ())"
      ],
      "execution_count": 9,
      "outputs": [
        {
          "output_type": "stream",
          "text": [
            "class                          0\n",
            "cap-shape                      0\n",
            "cap-surface                    0\n",
            "cap-color                      0\n",
            "bruises                        0\n",
            "odor                           0\n",
            "gill-attachment                0\n",
            "gill-spacing                   0\n",
            "gill-size                      0\n",
            "gill-color                     0\n",
            "stalk-shape                    0\n",
            "stalk-root                  2480\n",
            "stalk-surface-above-ring       0\n",
            "stalk-surface-below-ring       0\n",
            "stalk-color-above-ring         0\n",
            "stalk-color-below-ring         0\n",
            "veil-type                      0\n",
            "veil-color                     0\n",
            "ring-number                    0\n",
            "ring-type                      0\n",
            "spore-print-color              0\n",
            "population                     0\n",
            "habitat                        0\n",
            "dtype: int64\n"
          ],
          "name": "stdout"
        }
      ]
    },
    {
      "cell_type": "code",
      "metadata": {
        "id": "FMm3DmRyq3RG",
        "colab_type": "code",
        "colab": {}
      },
      "source": [
        "# Retiramos veil-type ya que no aporta informacion al ser un unico valor \"p\" durante todo el dataset\n",
        "\n",
        "df = df.drop(\"veil-type\",1)"
      ],
      "execution_count": 0,
      "outputs": []
    },
    {
      "cell_type": "code",
      "metadata": {
        "id": "eDYO1hDYrNfN",
        "colab_type": "code",
        "colab": {}
      },
      "source": [
        "# Reemplazamos los NaN de stalk root por una categoria \"m\", dado que solo hay valores faltantes aquí\n",
        "# Posteriormente revisaremos si borrar estos NaN mejorar el desempeño del modelo \n",
        "\n",
        "df['stalk-root'] = df['stalk-root'].replace(np.NaN,'m')"
      ],
      "execution_count": 0,
      "outputs": []
    },
    {
      "cell_type": "code",
      "metadata": {
        "id": "7iLLwtdOJtkb",
        "colab_type": "code",
        "colab": {}
      },
      "source": [
        "X = df.drop(columns='class')                               # Eliminamos la columna clase que es nuestra target "
      ],
      "execution_count": 0,
      "outputs": []
    },
    {
      "cell_type": "markdown",
      "metadata": {
        "id": "t3fWNyzegwg7",
        "colab_type": "text"
      },
      "source": [
        "Vamos a realizar un onehotencoding para las variables categoricas"
      ]
    },
    {
      "cell_type": "code",
      "metadata": {
        "id": "3c2Q4JF5PH_G",
        "colab_type": "code",
        "colab": {}
      },
      "source": [
        "X = df.drop(columns='class')                               # Eliminamos la columna clase que es nuestra target \n",
        "\n",
        "X = ce.OneHotEncoder(use_cat_names=True).fit_transform(X)  # Aplicamos en onehotencoding\n",
        " \n"
      ],
      "execution_count": 0,
      "outputs": []
    },
    {
      "cell_type": "code",
      "metadata": {
        "id": "ylJ9cJb3Orgr",
        "colab_type": "code",
        "colab": {}
      },
      "source": [
        "y = df['class'].replace({'p':0, 'e':1})                     # Extraemos la clase o target "
      ],
      "execution_count": 0,
      "outputs": []
    },
    {
      "cell_type": "code",
      "metadata": {
        "id": "fGXwXVAhQMvf",
        "colab_type": "code",
        "colab": {
          "base_uri": "https://localhost:8080/",
          "height": 236
        },
        "outputId": "6152824b-d77b-4110-8c3a-0197345bca82"
      },
      "source": [
        "X.head(3)"
      ],
      "execution_count": 14,
      "outputs": [
        {
          "output_type": "execute_result",
          "data": {
            "text/html": [
              "<div>\n",
              "<style scoped>\n",
              "    .dataframe tbody tr th:only-of-type {\n",
              "        vertical-align: middle;\n",
              "    }\n",
              "\n",
              "    .dataframe tbody tr th {\n",
              "        vertical-align: top;\n",
              "    }\n",
              "\n",
              "    .dataframe thead th {\n",
              "        text-align: right;\n",
              "    }\n",
              "</style>\n",
              "<table border=\"1\" class=\"dataframe\">\n",
              "  <thead>\n",
              "    <tr style=\"text-align: right;\">\n",
              "      <th></th>\n",
              "      <th>cap-shape_x</th>\n",
              "      <th>cap-shape_b</th>\n",
              "      <th>cap-shape_s</th>\n",
              "      <th>cap-shape_f</th>\n",
              "      <th>cap-shape_k</th>\n",
              "      <th>cap-shape_c</th>\n",
              "      <th>cap-surface_s</th>\n",
              "      <th>cap-surface_y</th>\n",
              "      <th>cap-surface_f</th>\n",
              "      <th>cap-surface_g</th>\n",
              "      <th>cap-color_n</th>\n",
              "      <th>cap-color_y</th>\n",
              "      <th>cap-color_w</th>\n",
              "      <th>cap-color_g</th>\n",
              "      <th>cap-color_e</th>\n",
              "      <th>cap-color_p</th>\n",
              "      <th>cap-color_b</th>\n",
              "      <th>cap-color_u</th>\n",
              "      <th>cap-color_c</th>\n",
              "      <th>cap-color_r</th>\n",
              "      <th>bruises_t</th>\n",
              "      <th>bruises_f</th>\n",
              "      <th>odor_p</th>\n",
              "      <th>odor_a</th>\n",
              "      <th>odor_l</th>\n",
              "      <th>odor_n</th>\n",
              "      <th>odor_f</th>\n",
              "      <th>odor_c</th>\n",
              "      <th>odor_y</th>\n",
              "      <th>odor_s</th>\n",
              "      <th>odor_m</th>\n",
              "      <th>gill-attachment_f</th>\n",
              "      <th>gill-attachment_a</th>\n",
              "      <th>gill-spacing_c</th>\n",
              "      <th>gill-spacing_w</th>\n",
              "      <th>gill-size_n</th>\n",
              "      <th>gill-size_b</th>\n",
              "      <th>gill-color_k</th>\n",
              "      <th>gill-color_n</th>\n",
              "      <th>gill-color_g</th>\n",
              "      <th>...</th>\n",
              "      <th>stalk-color-below-ring_b</th>\n",
              "      <th>stalk-color-below-ring_n</th>\n",
              "      <th>stalk-color-below-ring_e</th>\n",
              "      <th>stalk-color-below-ring_y</th>\n",
              "      <th>stalk-color-below-ring_o</th>\n",
              "      <th>stalk-color-below-ring_c</th>\n",
              "      <th>veil-color_w</th>\n",
              "      <th>veil-color_n</th>\n",
              "      <th>veil-color_o</th>\n",
              "      <th>veil-color_y</th>\n",
              "      <th>ring-number_o</th>\n",
              "      <th>ring-number_t</th>\n",
              "      <th>ring-number_n</th>\n",
              "      <th>ring-type_p</th>\n",
              "      <th>ring-type_e</th>\n",
              "      <th>ring-type_l</th>\n",
              "      <th>ring-type_f</th>\n",
              "      <th>ring-type_n</th>\n",
              "      <th>spore-print-color_k</th>\n",
              "      <th>spore-print-color_n</th>\n",
              "      <th>spore-print-color_u</th>\n",
              "      <th>spore-print-color_h</th>\n",
              "      <th>spore-print-color_w</th>\n",
              "      <th>spore-print-color_r</th>\n",
              "      <th>spore-print-color_o</th>\n",
              "      <th>spore-print-color_y</th>\n",
              "      <th>spore-print-color_b</th>\n",
              "      <th>population_s</th>\n",
              "      <th>population_n</th>\n",
              "      <th>population_a</th>\n",
              "      <th>population_v</th>\n",
              "      <th>population_y</th>\n",
              "      <th>population_c</th>\n",
              "      <th>habitat_u</th>\n",
              "      <th>habitat_g</th>\n",
              "      <th>habitat_m</th>\n",
              "      <th>habitat_d</th>\n",
              "      <th>habitat_p</th>\n",
              "      <th>habitat_w</th>\n",
              "      <th>habitat_l</th>\n",
              "    </tr>\n",
              "  </thead>\n",
              "  <tbody>\n",
              "    <tr>\n",
              "      <th>0</th>\n",
              "      <td>1</td>\n",
              "      <td>0</td>\n",
              "      <td>0</td>\n",
              "      <td>0</td>\n",
              "      <td>0</td>\n",
              "      <td>0</td>\n",
              "      <td>1</td>\n",
              "      <td>0</td>\n",
              "      <td>0</td>\n",
              "      <td>0</td>\n",
              "      <td>1</td>\n",
              "      <td>0</td>\n",
              "      <td>0</td>\n",
              "      <td>0</td>\n",
              "      <td>0</td>\n",
              "      <td>0</td>\n",
              "      <td>0</td>\n",
              "      <td>0</td>\n",
              "      <td>0</td>\n",
              "      <td>0</td>\n",
              "      <td>1</td>\n",
              "      <td>0</td>\n",
              "      <td>1</td>\n",
              "      <td>0</td>\n",
              "      <td>0</td>\n",
              "      <td>0</td>\n",
              "      <td>0</td>\n",
              "      <td>0</td>\n",
              "      <td>0</td>\n",
              "      <td>0</td>\n",
              "      <td>0</td>\n",
              "      <td>1</td>\n",
              "      <td>0</td>\n",
              "      <td>1</td>\n",
              "      <td>0</td>\n",
              "      <td>1</td>\n",
              "      <td>0</td>\n",
              "      <td>1</td>\n",
              "      <td>0</td>\n",
              "      <td>0</td>\n",
              "      <td>...</td>\n",
              "      <td>0</td>\n",
              "      <td>0</td>\n",
              "      <td>0</td>\n",
              "      <td>0</td>\n",
              "      <td>0</td>\n",
              "      <td>0</td>\n",
              "      <td>1</td>\n",
              "      <td>0</td>\n",
              "      <td>0</td>\n",
              "      <td>0</td>\n",
              "      <td>1</td>\n",
              "      <td>0</td>\n",
              "      <td>0</td>\n",
              "      <td>1</td>\n",
              "      <td>0</td>\n",
              "      <td>0</td>\n",
              "      <td>0</td>\n",
              "      <td>0</td>\n",
              "      <td>1</td>\n",
              "      <td>0</td>\n",
              "      <td>0</td>\n",
              "      <td>0</td>\n",
              "      <td>0</td>\n",
              "      <td>0</td>\n",
              "      <td>0</td>\n",
              "      <td>0</td>\n",
              "      <td>0</td>\n",
              "      <td>1</td>\n",
              "      <td>0</td>\n",
              "      <td>0</td>\n",
              "      <td>0</td>\n",
              "      <td>0</td>\n",
              "      <td>0</td>\n",
              "      <td>1</td>\n",
              "      <td>0</td>\n",
              "      <td>0</td>\n",
              "      <td>0</td>\n",
              "      <td>0</td>\n",
              "      <td>0</td>\n",
              "      <td>0</td>\n",
              "    </tr>\n",
              "    <tr>\n",
              "      <th>1</th>\n",
              "      <td>1</td>\n",
              "      <td>0</td>\n",
              "      <td>0</td>\n",
              "      <td>0</td>\n",
              "      <td>0</td>\n",
              "      <td>0</td>\n",
              "      <td>1</td>\n",
              "      <td>0</td>\n",
              "      <td>0</td>\n",
              "      <td>0</td>\n",
              "      <td>0</td>\n",
              "      <td>1</td>\n",
              "      <td>0</td>\n",
              "      <td>0</td>\n",
              "      <td>0</td>\n",
              "      <td>0</td>\n",
              "      <td>0</td>\n",
              "      <td>0</td>\n",
              "      <td>0</td>\n",
              "      <td>0</td>\n",
              "      <td>1</td>\n",
              "      <td>0</td>\n",
              "      <td>0</td>\n",
              "      <td>1</td>\n",
              "      <td>0</td>\n",
              "      <td>0</td>\n",
              "      <td>0</td>\n",
              "      <td>0</td>\n",
              "      <td>0</td>\n",
              "      <td>0</td>\n",
              "      <td>0</td>\n",
              "      <td>1</td>\n",
              "      <td>0</td>\n",
              "      <td>1</td>\n",
              "      <td>0</td>\n",
              "      <td>0</td>\n",
              "      <td>1</td>\n",
              "      <td>1</td>\n",
              "      <td>0</td>\n",
              "      <td>0</td>\n",
              "      <td>...</td>\n",
              "      <td>0</td>\n",
              "      <td>0</td>\n",
              "      <td>0</td>\n",
              "      <td>0</td>\n",
              "      <td>0</td>\n",
              "      <td>0</td>\n",
              "      <td>1</td>\n",
              "      <td>0</td>\n",
              "      <td>0</td>\n",
              "      <td>0</td>\n",
              "      <td>1</td>\n",
              "      <td>0</td>\n",
              "      <td>0</td>\n",
              "      <td>1</td>\n",
              "      <td>0</td>\n",
              "      <td>0</td>\n",
              "      <td>0</td>\n",
              "      <td>0</td>\n",
              "      <td>0</td>\n",
              "      <td>1</td>\n",
              "      <td>0</td>\n",
              "      <td>0</td>\n",
              "      <td>0</td>\n",
              "      <td>0</td>\n",
              "      <td>0</td>\n",
              "      <td>0</td>\n",
              "      <td>0</td>\n",
              "      <td>0</td>\n",
              "      <td>1</td>\n",
              "      <td>0</td>\n",
              "      <td>0</td>\n",
              "      <td>0</td>\n",
              "      <td>0</td>\n",
              "      <td>0</td>\n",
              "      <td>1</td>\n",
              "      <td>0</td>\n",
              "      <td>0</td>\n",
              "      <td>0</td>\n",
              "      <td>0</td>\n",
              "      <td>0</td>\n",
              "    </tr>\n",
              "    <tr>\n",
              "      <th>2</th>\n",
              "      <td>0</td>\n",
              "      <td>1</td>\n",
              "      <td>0</td>\n",
              "      <td>0</td>\n",
              "      <td>0</td>\n",
              "      <td>0</td>\n",
              "      <td>1</td>\n",
              "      <td>0</td>\n",
              "      <td>0</td>\n",
              "      <td>0</td>\n",
              "      <td>0</td>\n",
              "      <td>0</td>\n",
              "      <td>1</td>\n",
              "      <td>0</td>\n",
              "      <td>0</td>\n",
              "      <td>0</td>\n",
              "      <td>0</td>\n",
              "      <td>0</td>\n",
              "      <td>0</td>\n",
              "      <td>0</td>\n",
              "      <td>1</td>\n",
              "      <td>0</td>\n",
              "      <td>0</td>\n",
              "      <td>0</td>\n",
              "      <td>1</td>\n",
              "      <td>0</td>\n",
              "      <td>0</td>\n",
              "      <td>0</td>\n",
              "      <td>0</td>\n",
              "      <td>0</td>\n",
              "      <td>0</td>\n",
              "      <td>1</td>\n",
              "      <td>0</td>\n",
              "      <td>1</td>\n",
              "      <td>0</td>\n",
              "      <td>0</td>\n",
              "      <td>1</td>\n",
              "      <td>0</td>\n",
              "      <td>1</td>\n",
              "      <td>0</td>\n",
              "      <td>...</td>\n",
              "      <td>0</td>\n",
              "      <td>0</td>\n",
              "      <td>0</td>\n",
              "      <td>0</td>\n",
              "      <td>0</td>\n",
              "      <td>0</td>\n",
              "      <td>1</td>\n",
              "      <td>0</td>\n",
              "      <td>0</td>\n",
              "      <td>0</td>\n",
              "      <td>1</td>\n",
              "      <td>0</td>\n",
              "      <td>0</td>\n",
              "      <td>1</td>\n",
              "      <td>0</td>\n",
              "      <td>0</td>\n",
              "      <td>0</td>\n",
              "      <td>0</td>\n",
              "      <td>0</td>\n",
              "      <td>1</td>\n",
              "      <td>0</td>\n",
              "      <td>0</td>\n",
              "      <td>0</td>\n",
              "      <td>0</td>\n",
              "      <td>0</td>\n",
              "      <td>0</td>\n",
              "      <td>0</td>\n",
              "      <td>0</td>\n",
              "      <td>1</td>\n",
              "      <td>0</td>\n",
              "      <td>0</td>\n",
              "      <td>0</td>\n",
              "      <td>0</td>\n",
              "      <td>0</td>\n",
              "      <td>0</td>\n",
              "      <td>1</td>\n",
              "      <td>0</td>\n",
              "      <td>0</td>\n",
              "      <td>0</td>\n",
              "      <td>0</td>\n",
              "    </tr>\n",
              "  </tbody>\n",
              "</table>\n",
              "<p>3 rows × 116 columns</p>\n",
              "</div>"
            ],
            "text/plain": [
              "   cap-shape_x  cap-shape_b  cap-shape_s  ...  habitat_p  habitat_w  habitat_l\n",
              "0            1            0            0  ...          0          0          0\n",
              "1            1            0            0  ...          0          0          0\n",
              "2            0            1            0  ...          0          0          0\n",
              "\n",
              "[3 rows x 116 columns]"
            ]
          },
          "metadata": {
            "tags": []
          },
          "execution_count": 14
        }
      ]
    },
    {
      "cell_type": "code",
      "metadata": {
        "id": "CJKbnp_HhZeg",
        "colab_type": "code",
        "colab": {
          "base_uri": "https://localhost:8080/",
          "height": 87
        },
        "outputId": "639e3f89-eae2-48ca-e029-7cd88181b609"
      },
      "source": [
        "y.head(3)"
      ],
      "execution_count": 15,
      "outputs": [
        {
          "output_type": "execute_result",
          "data": {
            "text/plain": [
              "0    0\n",
              "1    1\n",
              "2    1\n",
              "Name: class, dtype: int64"
            ]
          },
          "metadata": {
            "tags": []
          },
          "execution_count": 15
        }
      ]
    },
    {
      "cell_type": "code",
      "metadata": {
        "id": "bl73g0CUpW8D",
        "colab_type": "code",
        "colab": {
          "base_uri": "https://localhost:8080/",
          "height": 34
        },
        "outputId": "324fa43f-cfc0-4806-f6e3-c9f1687aa72d"
      },
      "source": [
        "print(sorted(Counter(y).items())) # Observamos cuantos datos tenemos por cada clase"
      ],
      "execution_count": 16,
      "outputs": [
        {
          "output_type": "stream",
          "text": [
            "[(0, 3916), (1, 4208)]\n"
          ],
          "name": "stdout"
        }
      ]
    },
    {
      "cell_type": "code",
      "metadata": {
        "id": "U0sGZzECrhaw",
        "colab_type": "code",
        "colab": {
          "base_uri": "https://localhost:8080/",
          "height": 70
        },
        "outputId": "be1c49e5-3aba-448d-e24f-d46ffb16b267"
      },
      "source": [
        "# En porcentaje\n",
        "\n",
        "df['class'].value_counts(normalize=True)"
      ],
      "execution_count": 17,
      "outputs": [
        {
          "output_type": "execute_result",
          "data": {
            "text/plain": [
              "e    0.517971\n",
              "p    0.482029\n",
              "Name: class, dtype: float64"
            ]
          },
          "metadata": {
            "tags": []
          },
          "execution_count": 17
        }
      ]
    },
    {
      "cell_type": "markdown",
      "metadata": {
        "id": "A8FBVepKrlHP",
        "colab_type": "text"
      },
      "source": [
        "Es decir que modelo base tendrá un desempeño de 51,79%, es decir, no hacer \"nada\" es tener ese desempeño de modelo. Por lo cual esperamos que al utilizar modelos matematicos y estadisticos podamos mejorar el desempeño"
      ]
    },
    {
      "cell_type": "markdown",
      "metadata": {
        "id": "N2aqI3NZpQBY",
        "colab_type": "text"
      },
      "source": [
        "Vamos a realizar la partición de datos para entrenar modelos\n"
      ]
    },
    {
      "cell_type": "code",
      "metadata": {
        "id": "vehHaX25pAfG",
        "colab_type": "code",
        "colab": {}
      },
      "source": [
        "  # particion de datos en train y test\n",
        "X_train, X_test, y_train, y_test = train_test_split(X,y,test_size = 0.2,stratify=y)"
      ],
      "execution_count": 0,
      "outputs": []
    },
    {
      "cell_type": "markdown",
      "metadata": {
        "id": "5a-hyDkCsDUL",
        "colab_type": "text"
      },
      "source": [
        "# Modelo 1. Decision Tree"
      ]
    },
    {
      "cell_type": "code",
      "metadata": {
        "id": "gk0UCcPEpAmh",
        "colab_type": "code",
        "colab": {
          "base_uri": "https://localhost:8080/",
          "height": 52
        },
        "outputId": "9db0bd06-eb73-4596-8325-a3db3519f4f5"
      },
      "source": [
        "clf = DecisionTreeClassifier(max_depth=1) # Instanciamos el modelo\n",
        "clf.fit(X_train, y_train)                 # Entrenamos\n",
        "\n",
        "# Desempeño en entrenamiento\n",
        "y_pred_train = clf.predict(X_train)\n",
        "print('El desempeño del arbol en train es de', accuracy_score(y_train, y_pred_train))\n",
        "\n",
        "\n",
        "# Desempeño en test\n",
        "y_pred_test = clf.predict(X_test)\n",
        "print('El desempeño del arbol en test es de', accuracy_score(y_test, y_pred_test))"
      ],
      "execution_count": 52,
      "outputs": [
        {
          "output_type": "stream",
          "text": [
            "El desempeño del arbol en train es de 0.8873672872749654\n",
            "El desempeño del arbol en test es de 0.8843076923076924\n"
          ],
          "name": "stdout"
        }
      ]
    },
    {
      "cell_type": "code",
      "metadata": {
        "id": "WqTT0zzrti6D",
        "colab_type": "code",
        "colab": {
          "base_uri": "https://localhost:8080/",
          "height": 107
        },
        "outputId": "c7d08b41-a604-41d8-8bae-b717baffa40f"
      },
      "source": [
        "# Matriz de confusion\n",
        "pd.DataFrame(confusion_matrix(y_test, y_pred_test), \n",
        "                        columns=['Predicción Poison', 'Predicción Edible'], \n",
        "                        index=['Original Poison', 'Original Edible'])\n"
      ],
      "execution_count": 35,
      "outputs": [
        {
          "output_type": "execute_result",
          "data": {
            "text/html": [
              "<div>\n",
              "<style scoped>\n",
              "    .dataframe tbody tr th:only-of-type {\n",
              "        vertical-align: middle;\n",
              "    }\n",
              "\n",
              "    .dataframe tbody tr th {\n",
              "        vertical-align: top;\n",
              "    }\n",
              "\n",
              "    .dataframe thead th {\n",
              "        text-align: right;\n",
              "    }\n",
              "</style>\n",
              "<table border=\"1\" class=\"dataframe\">\n",
              "  <thead>\n",
              "    <tr style=\"text-align: right;\">\n",
              "      <th></th>\n",
              "      <th>Predicción Poison</th>\n",
              "      <th>Predicción Edible</th>\n",
              "    </tr>\n",
              "  </thead>\n",
              "  <tbody>\n",
              "    <tr>\n",
              "      <th>Original Poison</th>\n",
              "      <td>760</td>\n",
              "      <td>23</td>\n",
              "    </tr>\n",
              "    <tr>\n",
              "      <th>Original Edible</th>\n",
              "      <td>165</td>\n",
              "      <td>677</td>\n",
              "    </tr>\n",
              "  </tbody>\n",
              "</table>\n",
              "</div>"
            ],
            "text/plain": [
              "                 Predicción Poison  Predicción Edible\n",
              "Original Poison                760                 23\n",
              "Original Edible                165                677"
            ]
          },
          "metadata": {
            "tags": []
          },
          "execution_count": 35
        }
      ]
    },
    {
      "cell_type": "code",
      "metadata": {
        "id": "OctIP-LHpAku",
        "colab_type": "code",
        "colab": {
          "base_uri": "https://localhost:8080/",
          "height": 176
        },
        "outputId": "e543921c-1a99-40e6-dcf7-d007e4c8c4ed"
      },
      "source": [
        "# Observemos algunas metricas mas adecuadas para clasificacion binaria\n",
        "\n",
        "print(classification_report(y_test, y_pred_test))             # Revisamos metricas"
      ],
      "execution_count": 36,
      "outputs": [
        {
          "output_type": "stream",
          "text": [
            "              precision    recall  f1-score   support\n",
            "\n",
            "           0       0.82      0.97      0.89       783\n",
            "           1       0.97      0.80      0.88       842\n",
            "\n",
            "    accuracy                           0.88      1625\n",
            "   macro avg       0.89      0.89      0.88      1625\n",
            "weighted avg       0.90      0.88      0.88      1625\n",
            "\n"
          ],
          "name": "stdout"
        }
      ]
    },
    {
      "cell_type": "markdown",
      "metadata": {
        "id": "PyCAvQLjsFwt",
        "colab_type": "text"
      },
      "source": [
        "# Modelo 2. Random Forest"
      ]
    },
    {
      "cell_type": "code",
      "metadata": {
        "id": "3RBgR1Me8dQA",
        "colab_type": "code",
        "colab": {
          "base_uri": "https://localhost:8080/",
          "height": 87
        },
        "outputId": "90a0342b-0c07-4d78-e6f6-e5f696e69690"
      },
      "source": [
        "random_forest = RandomForestClassifier(n_estimators=100, max_depth=5) # Instanciamos el modelo con 100 arboles y 5 de profundidad\n",
        "\n",
        "cv = cross_validate(estimator = random_forest, \n",
        "                    X = X_train, y = y_train, \n",
        "                    scoring='accuracy', n_jobs=-1, cv=10, \n",
        "                    verbose=10, \n",
        "                    return_train_score=True)\n"
      ],
      "execution_count": 39,
      "outputs": [
        {
          "output_type": "stream",
          "text": [
            "[Parallel(n_jobs=-1)]: Using backend LokyBackend with 2 concurrent workers.\n",
            "[Parallel(n_jobs=-1)]: Done   1 tasks      | elapsed:    0.6s\n",
            "[Parallel(n_jobs=-1)]: Done   4 tasks      | elapsed:    1.2s\n",
            "[Parallel(n_jobs=-1)]: Done  10 out of  10 | elapsed:    3.0s finished\n"
          ],
          "name": "stderr"
        }
      ]
    },
    {
      "cell_type": "code",
      "metadata": {
        "id": "7mpEGSoQ_SFU",
        "colab_type": "code",
        "colab": {
          "base_uri": "https://localhost:8080/",
          "height": 158
        },
        "outputId": "1a9e69ad-d75a-4630-b73a-fc340563808a"
      },
      "source": [
        "cv"
      ],
      "execution_count": 40,
      "outputs": [
        {
          "output_type": "execute_result",
          "data": {
            "text/plain": [
              "{'fit_time': array([0.50486135, 0.49878144, 0.49455595, 0.49842572, 0.51241517,\n",
              "        0.491714  , 0.48561358, 0.48473239, 0.48534894, 0.48421335]),\n",
              " 'score_time': array([0.02502608, 0.02490211, 0.02440357, 0.03291774, 0.02371526,\n",
              "        0.02372479, 0.02385426, 0.02391362, 0.02363181, 0.02454209]),\n",
              " 'test_score': array([0.99538462, 0.98615385, 0.98923077, 0.99384615, 0.99076923,\n",
              "        0.98769231, 0.99076923, 0.99076923, 0.98923077, 0.99383667]),\n",
              " 'train_score': array([0.99008378, 0.99076765, 0.99179347, 0.99059668, 0.99042571,\n",
              "        0.99128056, 0.99025474, 0.99025474, 0.99316122, 0.99162393])}"
            ]
          },
          "metadata": {
            "tags": []
          },
          "execution_count": 40
        }
      ]
    },
    {
      "cell_type": "code",
      "metadata": {
        "id": "yJ4_2zhJ91gR",
        "colab_type": "code",
        "colab": {
          "base_uri": "https://localhost:8080/",
          "height": 52
        },
        "outputId": "e8237878-9e8a-4489-c36e-50ec05558100"
      },
      "source": [
        "random_forest.fit(X_test, y_test)                                    # Entrenamos el modelo\n",
        "\n",
        "# Desempeño en entrenamiento\n",
        "y_pred_train = random_forest.predict(X_train)   \n",
        "print('El desempeño del arbol en train es de', accuracy_score(y_train, y_pred_train))\n",
        "\n",
        "\n",
        "# Desempeño en test\n",
        "y_pred_test = random_forest.predict(X_test)   \n",
        "print('El desempeño del arbol en test es de', accuracy_score(y_test, y_pred_test))\n"
      ],
      "execution_count": 41,
      "outputs": [
        {
          "output_type": "stream",
          "text": [
            "El desempeño del arbol en train es de 0.9906139406062471\n",
            "El desempeño del arbol en test es de 0.9913846153846154\n"
          ],
          "name": "stdout"
        }
      ]
    },
    {
      "cell_type": "code",
      "metadata": {
        "id": "_V_EWbru_4pg",
        "colab_type": "code",
        "colab": {
          "base_uri": "https://localhost:8080/",
          "height": 107
        },
        "outputId": "1cae1385-a52f-4455-8836-c21038871b47"
      },
      "source": [
        "# Matriz de confusion\n",
        "pd.DataFrame(confusion_matrix(y_test, y_pred_test), \n",
        "                        columns=['Predicción Poison', 'Predicción Edible'], \n",
        "                        index=['Original Poison', 'Original Edible'])"
      ],
      "execution_count": 42,
      "outputs": [
        {
          "output_type": "execute_result",
          "data": {
            "text/html": [
              "<div>\n",
              "<style scoped>\n",
              "    .dataframe tbody tr th:only-of-type {\n",
              "        vertical-align: middle;\n",
              "    }\n",
              "\n",
              "    .dataframe tbody tr th {\n",
              "        vertical-align: top;\n",
              "    }\n",
              "\n",
              "    .dataframe thead th {\n",
              "        text-align: right;\n",
              "    }\n",
              "</style>\n",
              "<table border=\"1\" class=\"dataframe\">\n",
              "  <thead>\n",
              "    <tr style=\"text-align: right;\">\n",
              "      <th></th>\n",
              "      <th>Predicción Poison</th>\n",
              "      <th>Predicción Edible</th>\n",
              "    </tr>\n",
              "  </thead>\n",
              "  <tbody>\n",
              "    <tr>\n",
              "      <th>Original Poison</th>\n",
              "      <td>769</td>\n",
              "      <td>14</td>\n",
              "    </tr>\n",
              "    <tr>\n",
              "      <th>Original Edible</th>\n",
              "      <td>0</td>\n",
              "      <td>842</td>\n",
              "    </tr>\n",
              "  </tbody>\n",
              "</table>\n",
              "</div>"
            ],
            "text/plain": [
              "                 Predicción Poison  Predicción Edible\n",
              "Original Poison                769                 14\n",
              "Original Edible                  0                842"
            ]
          },
          "metadata": {
            "tags": []
          },
          "execution_count": 42
        }
      ]
    },
    {
      "cell_type": "code",
      "metadata": {
        "id": "J9UQu4pV_-FA",
        "colab_type": "code",
        "colab": {
          "base_uri": "https://localhost:8080/",
          "height": 176
        },
        "outputId": "2f64cfec-96ee-4f02-a7b3-2042d498c8a0"
      },
      "source": [
        "# Observemos algunas metricas mas adecuadas para clasificacion binaria\n",
        "\n",
        "print(classification_report(y_test, y_pred_test))             # Revisamos metricas"
      ],
      "execution_count": 43,
      "outputs": [
        {
          "output_type": "stream",
          "text": [
            "              precision    recall  f1-score   support\n",
            "\n",
            "           0       1.00      0.98      0.99       783\n",
            "           1       0.98      1.00      0.99       842\n",
            "\n",
            "    accuracy                           0.99      1625\n",
            "   macro avg       0.99      0.99      0.99      1625\n",
            "weighted avg       0.99      0.99      0.99      1625\n",
            "\n"
          ],
          "name": "stdout"
        }
      ]
    },
    {
      "cell_type": "markdown",
      "metadata": {
        "id": "iPlR0XB9BOFU",
        "colab_type": "text"
      },
      "source": [
        "Vamos a realizar una regularización y un tunning de los hiperparametros"
      ]
    },
    {
      "cell_type": "code",
      "metadata": {
        "id": "j5o0TdaM_4xw",
        "colab_type": "code",
        "colab": {
          "base_uri": "https://localhost:8080/",
          "height": 941
        },
        "outputId": "4949afc9-e2e5-4a23-e67b-e915cd579508"
      },
      "source": [
        "param_distributions = {\n",
        "    'max_depth':[1, 2, 3, 4, 5],\n",
        "    'n_estimators': [10, 25, 50, 100, 150, 200]}\n",
        "\n",
        "search = RandomizedSearchCV(estimator = RandomForestClassifier(),\n",
        "                            param_distributions = param_distributions, \n",
        "                            n_iter=100, scoring='precision',\n",
        "                            n_jobs=-1,\n",
        "                            cv=10,\n",
        "                            verbose=10, return_train_score=True)\n",
        " \n",
        "search.fit(X_train, y_train)"
      ],
      "execution_count": 45,
      "outputs": [
        {
          "output_type": "stream",
          "text": [
            "Fitting 10 folds for each of 30 candidates, totalling 300 fits\n"
          ],
          "name": "stdout"
        },
        {
          "output_type": "stream",
          "text": [
            "[Parallel(n_jobs=-1)]: Using backend LokyBackend with 2 concurrent workers.\n",
            "[Parallel(n_jobs=-1)]: Done   1 tasks      | elapsed:    0.1s\n",
            "[Parallel(n_jobs=-1)]: Batch computation too fast (0.0753s.) Setting batch_size=2.\n",
            "[Parallel(n_jobs=-1)]: Done   4 tasks      | elapsed:    0.2s\n",
            "[Parallel(n_jobs=-1)]: Done  14 tasks      | elapsed:    0.7s\n",
            "[Parallel(n_jobs=-1)]: Done  24 tasks      | elapsed:    1.6s\n",
            "[Parallel(n_jobs=-1)]: Done  38 tasks      | elapsed:    4.1s\n",
            "[Parallel(n_jobs=-1)]: Batch computation too slow (2.0767s.) Setting batch_size=1.\n",
            "[Parallel(n_jobs=-1)]: Done  52 tasks      | elapsed:    8.9s\n",
            "[Parallel(n_jobs=-1)]: Done  63 tasks      | elapsed:   11.8s\n",
            "[Parallel(n_jobs=-1)]: Done  72 tasks      | elapsed:   12.5s\n",
            "[Parallel(n_jobs=-1)]: Done  83 tasks      | elapsed:   13.5s\n",
            "[Parallel(n_jobs=-1)]: Done  94 tasks      | elapsed:   15.5s\n",
            "[Parallel(n_jobs=-1)]: Done 107 tasks      | elapsed:   19.7s\n",
            "[Parallel(n_jobs=-1)]: Done 120 tasks      | elapsed:   25.3s\n",
            "[Parallel(n_jobs=-1)]: Done 135 tasks      | elapsed:   26.2s\n",
            "[Parallel(n_jobs=-1)]: Done 150 tasks      | elapsed:   27.9s\n",
            "[Parallel(n_jobs=-1)]: Done 167 tasks      | elapsed:   33.8s\n",
            "[Parallel(n_jobs=-1)]: Done 184 tasks      | elapsed:   39.9s\n",
            "[Parallel(n_jobs=-1)]: Done 203 tasks      | elapsed:   41.6s\n",
            "[Parallel(n_jobs=-1)]: Done 222 tasks      | elapsed:   46.2s\n",
            "[Parallel(n_jobs=-1)]: Done 243 tasks      | elapsed:   55.2s\n",
            "[Parallel(n_jobs=-1)]: Done 264 tasks      | elapsed:   57.0s\n",
            "[Parallel(n_jobs=-1)]: Done 287 tasks      | elapsed:  1.1min\n",
            "[Parallel(n_jobs=-1)]: Done 300 out of 300 | elapsed:  1.2min finished\n"
          ],
          "name": "stderr"
        },
        {
          "output_type": "execute_result",
          "data": {
            "text/plain": [
              "RandomizedSearchCV(cv=10, error_score=nan,\n",
              "                   estimator=RandomForestClassifier(bootstrap=True,\n",
              "                                                    ccp_alpha=0.0,\n",
              "                                                    class_weight=None,\n",
              "                                                    criterion='gini',\n",
              "                                                    max_depth=None,\n",
              "                                                    max_features='auto',\n",
              "                                                    max_leaf_nodes=None,\n",
              "                                                    max_samples=None,\n",
              "                                                    min_impurity_decrease=0.0,\n",
              "                                                    min_impurity_split=None,\n",
              "                                                    min_samples_leaf=1,\n",
              "                                                    min_samples_split=2,\n",
              "                                                    min_weight_fraction_leaf=0.0,\n",
              "                                                    n_estimators=100,\n",
              "                                                    n_jobs=None,\n",
              "                                                    oob_score=False,\n",
              "                                                    random_state=None,\n",
              "                                                    verbose=0,\n",
              "                                                    warm_start=False),\n",
              "                   iid='deprecated', n_iter=100, n_jobs=-1,\n",
              "                   param_distributions={'max_depth': [1, 2, 3, 4, 5],\n",
              "                                        'n_estimators': [10, 25, 50, 100, 150,\n",
              "                                                         200]},\n",
              "                   pre_dispatch='2*n_jobs', random_state=None, refit=True,\n",
              "                   return_train_score=True, scoring='precision', verbose=10)"
            ]
          },
          "metadata": {
            "tags": []
          },
          "execution_count": 45
        }
      ]
    },
    {
      "cell_type": "code",
      "metadata": {
        "id": "uwAGk3_h_41x",
        "colab_type": "code",
        "colab": {
          "base_uri": "https://localhost:8080/",
          "height": 158
        },
        "outputId": "2ccc09be-896b-40d3-baeb-e2ecf152122e"
      },
      "source": [
        "search.best_estimator_"
      ],
      "execution_count": 46,
      "outputs": [
        {
          "output_type": "execute_result",
          "data": {
            "text/plain": [
              "RandomForestClassifier(bootstrap=True, ccp_alpha=0.0, class_weight=None,\n",
              "                       criterion='gini', max_depth=5, max_features='auto',\n",
              "                       max_leaf_nodes=None, max_samples=None,\n",
              "                       min_impurity_decrease=0.0, min_impurity_split=None,\n",
              "                       min_samples_leaf=1, min_samples_split=2,\n",
              "                       min_weight_fraction_leaf=0.0, n_estimators=10,\n",
              "                       n_jobs=None, oob_score=False, random_state=None,\n",
              "                       verbose=0, warm_start=False)"
            ]
          },
          "metadata": {
            "tags": []
          },
          "execution_count": 46
        }
      ]
    },
    {
      "cell_type": "code",
      "metadata": {
        "id": "643kGxCs_45H",
        "colab_type": "code",
        "colab": {}
      },
      "source": [
        ""
      ],
      "execution_count": 0,
      "outputs": []
    },
    {
      "cell_type": "markdown",
      "metadata": {
        "id": "hMnFS6yvsHg3",
        "colab_type": "text"
      },
      "source": [
        "# Modelo 3."
      ]
    },
    {
      "cell_type": "code",
      "metadata": {
        "id": "rffhoU3gGKo6",
        "colab_type": "code",
        "colab": {}
      },
      "source": [
        "# Try them all!\n",
        "from sklearn.svm import LinearSVC, NuSVC, SVC\n",
        "from sklearn.neighbors import KNeighborsClassifier\n",
        "from sklearn.linear_model import LogisticRegressionCV, LogisticRegression, SGDClassifier\n",
        "from sklearn.ensemble import BaggingClassifier, ExtraTreesClassifier, RandomForestClassifier"
      ],
      "execution_count": 0,
      "outputs": []
    },
    {
      "cell_type": "code",
      "metadata": {
        "id": "7zvhXtB_GSyP",
        "colab_type": "code",
        "colab": {}
      },
      "source": [
        "from sklearn.metrics import f1_score\n",
        "from sklearn.pipeline import Pipeline\n",
        "from sklearn.preprocessing import OneHotEncoder, LabelEncoder\n",
        "\n",
        "\n",
        "def score_model(X, y, estimator, **kwargs):\n",
        "    \"\"\"\n",
        "    Test various estimators.\n",
        "    \"\"\" \n",
        "    y = LabelEncoder().fit_transform(y)\n",
        "    model = Pipeline([\n",
        "         ('one_hot_encoder', OneHotEncoder()), \n",
        "         ('estimator', estimator)\n",
        "    ])\n",
        "\n",
        "    # Instantiate the classification model and visualizer\n",
        "    model.fit(X, y, **kwargs)  \n",
        "    \n",
        "    expected  = y\n",
        "    predicted = model.predict(X)\n",
        "    \n",
        "    # Compute and return F1 (harmonic mean of precision and recall)\n",
        "    print(\"{}: {}\".format(estimator.__class__.__name__, f1_score(expected, predicted)))\n"
      ],
      "execution_count": 0,
      "outputs": []
    },
    {
      "cell_type": "code",
      "metadata": {
        "id": "4loQPz8VKAOF",
        "colab_type": "code",
        "colab": {}
      },
      "source": [
        ""
      ],
      "execution_count": 0,
      "outputs": []
    },
    {
      "cell_type": "code",
      "metadata": {
        "id": "B0LRYXuysMZM",
        "colab_type": "code",
        "colab": {
          "base_uri": "https://localhost:8080/",
          "height": 194
        },
        "outputId": "40ba31ee-71f9-45c7-b7c7-0a2dad2393a9"
      },
      "source": [
        "models = [\n",
        "    SVC(gamma='auto'), NuSVC(gamma='auto'), LinearSVC(), \n",
        "    SGDClassifier(max_iter=100, tol=1e-3), KNeighborsClassifier(), \n",
        "    LogisticRegression(solver='lbfgs'), LogisticRegressionCV(cv=3), \n",
        "    BaggingClassifier(), ExtraTreesClassifier(n_estimators=100), \n",
        "    RandomForestClassifier(n_estimators=100)\n",
        "]\n",
        "\n",
        "for model in models:\n",
        "    score_model(X, y, model)"
      ],
      "execution_count": 60,
      "outputs": [
        {
          "output_type": "stream",
          "text": [
            "SVC: 0.9990503323836657\n",
            "NuSVC: 0.9186264767583084\n",
            "LinearSVC: 1.0\n",
            "SGDClassifier: 1.0\n",
            "KNeighborsClassifier: 1.0\n",
            "LogisticRegression: 1.0\n",
            "LogisticRegressionCV: 1.0\n",
            "BaggingClassifier: 1.0\n",
            "ExtraTreesClassifier: 1.0\n",
            "RandomForestClassifier: 1.0\n"
          ],
          "name": "stdout"
        }
      ]
    },
    {
      "cell_type": "markdown",
      "metadata": {
        "id": "n-8ABQF4sJyq",
        "colab_type": "text"
      },
      "source": [
        "# Modelo 4."
      ]
    }
  ]
}